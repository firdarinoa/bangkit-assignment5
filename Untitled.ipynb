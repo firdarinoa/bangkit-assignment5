{
  "nbformat": 4,
  "nbformat_minor": 0,
  "metadata": {
    "kernelspec": {
      "display_name": "Python 3",
      "language": "python",
      "name": "python3"
    },
    "language_info": {
      "codemirror_mode": {
        "name": "ipython",
        "version": 3
      },
      "file_extension": ".py",
      "mimetype": "text/x-python",
      "name": "python",
      "nbconvert_exporter": "python",
      "pygments_lexer": "ipython3",
      "version": "3.7.4"
    },
    "colab": {
      "name": "Untitled.ipynb",
      "provenance": [],
      "include_colab_link": true
    }
  },
  "cells": [
    {
      "cell_type": "markdown",
      "metadata": {
        "id": "view-in-github",
        "colab_type": "text"
      },
      "source": [
        "<a href=\"https://colab.research.google.com/github/firdarinoa/bangkit-assignment5/blob/Deni%2FAssignment/Untitled.ipynb\" target=\"_parent\"><img src=\"https://colab.research.google.com/assets/colab-badge.svg\" alt=\"Open In Colab\"/></a>"
      ]
    },
    {
      "cell_type": "code",
      "metadata": {
        "id": "3O3bP1OQTD8p",
        "colab_type": "code",
        "colab": {}
      },
      "source": [
        "import numpy as np\n",
        "import pandas as pd\n",
        "\n",
        "import tensorflow as tf\n",
        "\n",
        "from tensorflow import feature_column\n",
        "from tensorflow.keras import layers\n",
        "from sklearn.model_selection import train_test_split"
      ],
      "execution_count": 0,
      "outputs": []
    },
    {
      "cell_type": "code",
      "metadata": {
        "id": "tJyRUNn2TD81",
        "colab_type": "code",
        "colab": {}
      },
      "source": [
        ""
      ],
      "execution_count": 0,
      "outputs": []
    },
    {
      "cell_type": "code",
      "metadata": {
        "id": "cq__CmvHTD86",
        "colab_type": "code",
        "colab": {}
      },
      "source": [
        "#import data\n",
        "dataframe1 = pd.read_csv('Dataset_spine.csv')\n",
        "\n",
        "# Convert last column to be a table and drop it.\n",
        "attributes = dataframe1.iloc[5:17][\"Unnamed: 13\"]\n",
        "dataframe1.drop([\"Unnamed: 13\"], axis=1,inplace=True)\n",
        "\n",
        "#convert label data (class_att)\n",
        "dataframe1.Class_att = [1 if i ==\"Abnormal\" else 0 for i in dataframe1.Class_att]"
      ],
      "execution_count": 0,
      "outputs": []
    },
    {
      "cell_type": "code",
      "metadata": {
        "id": "p9cFTm3CTD89",
        "colab_type": "code",
        "colab": {}
      },
      "source": [
        "#EDA ideas\n",
        "#EDA: sebelum di normalisasi-> buat plot histogramnnya dulu liat skew apa enggak"
      ],
      "execution_count": 0,
      "outputs": []
    },
    {
      "cell_type": "code",
      "metadata": {
        "id": "_hkW_POTTD9B",
        "colab_type": "code",
        "colab": {},
        "outputId": "8d06b2c2-1d39-4195-f983-4c3dc1c3afe7"
      },
      "source": [
        "k=len(dataframe1.Class_att)\n",
        "i=0\n",
        "for j in range(len(dataframe1.Class_att)):\n",
        "    if dataframe1.Class_att[j]==1:\n",
        "        i+=1\n",
        "print(\"Amount of Data     :\", k)\n",
        "print(\"Amount of Abnormal :\", i)\n",
        "print(\"Amount of Normal   :\", (k-i))"
      ],
      "execution_count": 0,
      "outputs": [
        {
          "output_type": "stream",
          "text": [
            "Amount of Data     : 310\n",
            "Amount of Abnormal : 210\n",
            "Amount of Normal   : 100\n"
          ],
          "name": "stdout"
        }
      ]
    },
    {
      "cell_type": "code",
      "metadata": {
        "id": "7mPXXee6TD9G",
        "colab_type": "code",
        "colab": {},
        "outputId": "e1548d15-d50d-430f-9c18-30e55281916e"
      },
      "source": [
        "dataframe1_mean = dataframe1.mean()\n",
        "dataframe1_std = dataframe1.std()\n",
        "dataframe = (dataframe1-dataframe1_mean)/dataframe1_std\n",
        "\n",
        "for i in range(len(dataframe)):\n",
        "    if dataframe.Class_att[i]>=0:\n",
        "        dataframe.Class_att[i]=1\n",
        "    elif dataframe.Class_att[i]<0:\n",
        "        dataframe.Class_att[i]=0\n",
        "\n",
        "dataframe"
      ],
      "execution_count": 0,
      "outputs": [
        {
          "output_type": "execute_result",
          "data": {
            "text/html": [
              "<div>\n",
              "<style scoped>\n",
              "    .dataframe tbody tr th:only-of-type {\n",
              "        vertical-align: middle;\n",
              "    }\n",
              "\n",
              "    .dataframe tbody tr th {\n",
              "        vertical-align: top;\n",
              "    }\n",
              "\n",
              "    .dataframe thead th {\n",
              "        text-align: right;\n",
              "    }\n",
              "</style>\n",
              "<table border=\"1\" class=\"dataframe\">\n",
              "  <thead>\n",
              "    <tr style=\"text-align: right;\">\n",
              "      <th></th>\n",
              "      <th>Col1</th>\n",
              "      <th>Col2</th>\n",
              "      <th>Col3</th>\n",
              "      <th>Col4</th>\n",
              "      <th>Col5</th>\n",
              "      <th>Col6</th>\n",
              "      <th>Col7</th>\n",
              "      <th>Col8</th>\n",
              "      <th>Col9</th>\n",
              "      <th>Col10</th>\n",
              "      <th>Col11</th>\n",
              "      <th>Col12</th>\n",
              "      <th>Class_att</th>\n",
              "    </tr>\n",
              "  </thead>\n",
              "  <tbody>\n",
              "    <tr>\n",
              "      <th>0</th>\n",
              "      <td>0.146849</td>\n",
              "      <td>0.500559</td>\n",
              "      <td>-0.664103</td>\n",
              "      <td>-0.184652</td>\n",
              "      <td>-1.445310</td>\n",
              "      <td>-0.706916</td>\n",
              "      <td>0.950094</td>\n",
              "      <td>-1.013427</td>\n",
              "      <td>0.433592</td>\n",
              "      <td>1.165245</td>\n",
              "      <td>-1.194656</td>\n",
              "      <td>1.709604</td>\n",
              "      <td>1.0</td>\n",
              "    </tr>\n",
              "    <tr>\n",
              "      <th>1</th>\n",
              "      <td>-1.243853</td>\n",
              "      <td>-0.747560</td>\n",
              "      <td>-1.450655</td>\n",
              "      <td>-1.039839</td>\n",
              "      <td>-0.263958</td>\n",
              "      <td>-0.578621</td>\n",
              "      <td>-0.202226</td>\n",
              "      <td>-0.976237</td>\n",
              "      <td>1.314166</td>\n",
              "      <td>1.676840</td>\n",
              "      <td>-0.938807</td>\n",
              "      <td>-0.912466</td>\n",
              "      <td>1.0</td>\n",
              "    </tr>\n",
              "    <tr>\n",
              "      <th>2</th>\n",
              "      <td>0.483588</td>\n",
              "      <td>0.467177</td>\n",
              "      <td>-0.099102</td>\n",
              "      <td>0.272642</td>\n",
              "      <td>-0.896237</td>\n",
              "      <td>-0.794137</td>\n",
              "      <td>0.006683</td>\n",
              "      <td>0.638095</td>\n",
              "      <td>1.300577</td>\n",
              "      <td>1.633329</td>\n",
              "      <td>-1.225197</td>\n",
              "      <td>-0.614693</td>\n",
              "      <td>1.0</td>\n",
              "    </tr>\n",
              "    <tr>\n",
              "      <th>3</th>\n",
              "      <td>0.510564</td>\n",
              "      <td>0.710414</td>\n",
              "      <td>-0.410675</td>\n",
              "      <td>0.125925</td>\n",
              "      <td>-1.205354</td>\n",
              "      <td>-0.401639</td>\n",
              "      <td>-0.362627</td>\n",
              "      <td>0.259135</td>\n",
              "      <td>-0.105042</td>\n",
              "      <td>-0.175873</td>\n",
              "      <td>-1.342849</td>\n",
              "      <td>-0.651935</td>\n",
              "      <td>1.0</td>\n",
              "    </tr>\n",
              "    <tr>\n",
              "      <th>4</th>\n",
              "      <td>-0.625636</td>\n",
              "      <td>-0.788418</td>\n",
              "      <td>-1.272687</td>\n",
              "      <td>-0.215527</td>\n",
              "      <td>-0.732271</td>\n",
              "      <td>-0.489315</td>\n",
              "      <td>0.246272</td>\n",
              "      <td>1.640442</td>\n",
              "      <td>0.850098</td>\n",
              "      <td>-1.057956</td>\n",
              "      <td>-0.190194</td>\n",
              "      <td>-0.069746</td>\n",
              "      <td>1.0</td>\n",
              "    </tr>\n",
              "    <tr>\n",
              "      <th>...</th>\n",
              "      <td>...</td>\n",
              "      <td>...</td>\n",
              "      <td>...</td>\n",
              "      <td>...</td>\n",
              "      <td>...</td>\n",
              "      <td>...</td>\n",
              "      <td>...</td>\n",
              "      <td>...</td>\n",
              "      <td>...</td>\n",
              "      <td>...</td>\n",
              "      <td>...</td>\n",
              "      <td>...</td>\n",
              "      <td>...</td>\n",
              "    </tr>\n",
              "    <tr>\n",
              "      <th>305</th>\n",
              "      <td>-0.730605</td>\n",
              "      <td>-0.392287</td>\n",
              "      <td>-0.858622</td>\n",
              "      <td>-0.645674</td>\n",
              "      <td>-0.035412</td>\n",
              "      <td>-0.813176</td>\n",
              "      <td>-1.201019</td>\n",
              "      <td>-1.560084</td>\n",
              "      <td>0.495303</td>\n",
              "      <td>-1.180758</td>\n",
              "      <td>-0.137072</td>\n",
              "      <td>-1.349094</td>\n",
              "      <td>0.0</td>\n",
              "    </tr>\n",
              "    <tr>\n",
              "      <th>306</th>\n",
              "      <td>-0.380582</td>\n",
              "      <td>0.317603</td>\n",
              "      <td>-1.224012</td>\n",
              "      <td>-0.725509</td>\n",
              "      <td>-0.266930</td>\n",
              "      <td>-0.711352</td>\n",
              "      <td>-1.487353</td>\n",
              "      <td>-0.245725</td>\n",
              "      <td>1.509742</td>\n",
              "      <td>-1.674878</td>\n",
              "      <td>1.641393</td>\n",
              "      <td>1.743765</td>\n",
              "      <td>0.0</td>\n",
              "    </tr>\n",
              "    <tr>\n",
              "      <th>307</th>\n",
              "      <td>0.055112</td>\n",
              "      <td>0.514786</td>\n",
              "      <td>-0.310475</td>\n",
              "      <td>-0.313057</td>\n",
              "      <td>0.581952</td>\n",
              "      <td>-0.772240</td>\n",
              "      <td>-1.371333</td>\n",
              "      <td>-0.592126</td>\n",
              "      <td>0.144715</td>\n",
              "      <td>-1.049885</td>\n",
              "      <td>1.441044</td>\n",
              "      <td>-0.691913</td>\n",
              "      <td>0.0</td>\n",
              "    </tr>\n",
              "    <tr>\n",
              "      <th>308</th>\n",
              "      <td>-0.884393</td>\n",
              "      <td>-0.884230</td>\n",
              "      <td>-0.557711</td>\n",
              "      <td>-0.476358</td>\n",
              "      <td>0.046945</td>\n",
              "      <td>-0.694425</td>\n",
              "      <td>-1.097772</td>\n",
              "      <td>-0.762565</td>\n",
              "      <td>0.890748</td>\n",
              "      <td>-0.751434</td>\n",
              "      <td>1.621227</td>\n",
              "      <td>0.772516</td>\n",
              "      <td>0.0</td>\n",
              "    </tr>\n",
              "    <tr>\n",
              "      <th>309</th>\n",
              "      <td>-1.546427</td>\n",
              "      <td>-1.245845</td>\n",
              "      <td>-0.824062</td>\n",
              "      <td>-1.056848</td>\n",
              "      <td>0.452386</td>\n",
              "      <td>-0.705448</td>\n",
              "      <td>0.705158</td>\n",
              "      <td>-0.224439</td>\n",
              "      <td>1.362406</td>\n",
              "      <td>0.620743</td>\n",
              "      <td>1.295329</td>\n",
              "      <td>1.431399</td>\n",
              "      <td>0.0</td>\n",
              "    </tr>\n",
              "  </tbody>\n",
              "</table>\n",
              "<p>310 rows × 13 columns</p>\n",
              "</div>"
            ],
            "text/plain": [
              "         Col1      Col2      Col3      Col4      Col5      Col6      Col7  \\\n",
              "0    0.146849  0.500559 -0.664103 -0.184652 -1.445310 -0.706916  0.950094   \n",
              "1   -1.243853 -0.747560 -1.450655 -1.039839 -0.263958 -0.578621 -0.202226   \n",
              "2    0.483588  0.467177 -0.099102  0.272642 -0.896237 -0.794137  0.006683   \n",
              "3    0.510564  0.710414 -0.410675  0.125925 -1.205354 -0.401639 -0.362627   \n",
              "4   -0.625636 -0.788418 -1.272687 -0.215527 -0.732271 -0.489315  0.246272   \n",
              "..        ...       ...       ...       ...       ...       ...       ...   \n",
              "305 -0.730605 -0.392287 -0.858622 -0.645674 -0.035412 -0.813176 -1.201019   \n",
              "306 -0.380582  0.317603 -1.224012 -0.725509 -0.266930 -0.711352 -1.487353   \n",
              "307  0.055112  0.514786 -0.310475 -0.313057  0.581952 -0.772240 -1.371333   \n",
              "308 -0.884393 -0.884230 -0.557711 -0.476358  0.046945 -0.694425 -1.097772   \n",
              "309 -1.546427 -1.245845 -0.824062 -1.056848  0.452386 -0.705448  0.705158   \n",
              "\n",
              "         Col8      Col9     Col10     Col11     Col12  Class_att  \n",
              "0   -1.013427  0.433592  1.165245 -1.194656  1.709604        1.0  \n",
              "1   -0.976237  1.314166  1.676840 -0.938807 -0.912466        1.0  \n",
              "2    0.638095  1.300577  1.633329 -1.225197 -0.614693        1.0  \n",
              "3    0.259135 -0.105042 -0.175873 -1.342849 -0.651935        1.0  \n",
              "4    1.640442  0.850098 -1.057956 -0.190194 -0.069746        1.0  \n",
              "..        ...       ...       ...       ...       ...        ...  \n",
              "305 -1.560084  0.495303 -1.180758 -0.137072 -1.349094        0.0  \n",
              "306 -0.245725  1.509742 -1.674878  1.641393  1.743765        0.0  \n",
              "307 -0.592126  0.144715 -1.049885  1.441044 -0.691913        0.0  \n",
              "308 -0.762565  0.890748 -0.751434  1.621227  0.772516        0.0  \n",
              "309 -0.224439  1.362406  0.620743  1.295329  1.431399        0.0  \n",
              "\n",
              "[310 rows x 13 columns]"
            ]
          },
          "metadata": {
            "tags": []
          },
          "execution_count": 390
        }
      ]
    },
    {
      "cell_type": "code",
      "metadata": {
        "id": "U4dz-iYTTD9J",
        "colab_type": "code",
        "colab": {}
      },
      "source": [
        "# split data jadi train, validation, and split\n",
        "train, test = train_test_split(dataframe, test_size=0.2)\n",
        "train, val = train_test_split(train, test_size=0.2)"
      ],
      "execution_count": 0,
      "outputs": []
    },
    {
      "cell_type": "code",
      "metadata": {
        "id": "6Y0hbUjvTD9O",
        "colab_type": "code",
        "colab": {}
      },
      "source": [
        "#create a tf.data dataset from a Pandas Dataframe\n",
        "def df_to_dataset(dataframe, shuffle=True):\n",
        "  dataframe = dataframe.copy()\n",
        "  labels = dataframe.pop('Class_att')\n",
        "  ds = tf.data.Dataset.from_tensor_slices((dict(dataframe), labels))\n",
        "  if shuffle:\n",
        "    ds = ds.shuffle(buffer_size=len(dataframe))\n",
        "  return ds"
      ],
      "execution_count": 0,
      "outputs": []
    },
    {
      "cell_type": "code",
      "metadata": {
        "id": "mNYk6kUeTD9S",
        "colab_type": "code",
        "colab": {}
      },
      "source": [
        "batch_size = 5 # A small batch sized is used for demonstration purposes\n",
        "train_ds = df_to_dataset(train)\n",
        "val_ds = df_to_dataset(val, shuffle=False)\n",
        "test_ds = df_to_dataset(test, shuffle=False)"
      ],
      "execution_count": 0,
      "outputs": []
    },
    {
      "cell_type": "code",
      "metadata": {
        "id": "9oQ1CUiATD9W",
        "colab_type": "code",
        "colab": {},
        "outputId": "b45d4c82-51da-45a8-cf20-c4b4543d738b"
      },
      "source": [
        "#feature_batch.keys()"
      ],
      "execution_count": 0,
      "outputs": [
        {
          "output_type": "execute_result",
          "data": {
            "text/plain": [
              "dict_keys(['Col1', 'Col2', 'Col3', 'Col4', 'Col5', 'Col6', 'Col7', 'Col8', 'Col9', 'Col10', 'Col11', 'Col12'])"
            ]
          },
          "metadata": {
            "tags": []
          },
          "execution_count": 394
        }
      ]
    },
    {
      "cell_type": "code",
      "metadata": {
        "id": "mDFcCfuUTD9a",
        "colab_type": "code",
        "colab": {},
        "outputId": "01ff9da4-bfa6-49f0-a56c-f9d7424a53d0"
      },
      "source": [
        "#feature_layer"
      ],
      "execution_count": 0,
      "outputs": [
        {
          "output_type": "execute_result",
          "data": {
            "text/plain": [
              "<tensorflow.python.feature_column.dense_features_v2.DenseFeatures at 0x252525f26c8>"
            ]
          },
          "metadata": {
            "tags": []
          },
          "execution_count": 395
        }
      ]
    },
    {
      "cell_type": "code",
      "metadata": {
        "id": "t4J7U1IdTD9f",
        "colab_type": "code",
        "colab": {}
      },
      "source": [
        "#for feature_batch, label_batch in train_ds.take(1):\n",
        " # print('Every feature:', list(feature_batch.keys()))\n",
        " # print('A batch of ages:', feature_batch['Col1'])\n",
        " # print('A batch of targets:', label_batch )\n",
        "\n",
        "feature = ['Col1','Col2','Col3','Col4','Col5','Col6']\n",
        "\n",
        "feature_columns = []\n",
        "\n",
        "for i in feature:\n",
        "    feature_columns.append(feature_column.numeric_column(i))\n",
        "\n",
        "#for header in feature_batch.keys() :\n",
        "  #feature_columns.append(feature_column.numeric_column(header))\n",
        "\n",
        "feature_layer = tf.keras.layers.DenseFeatures(feature_columns)"
      ],
      "execution_count": 0,
      "outputs": []
    },
    {
      "cell_type": "code",
      "metadata": {
        "id": "2XZ5__WpTD9k",
        "colab_type": "code",
        "colab": {},
        "outputId": "e381032b-29df-4ddd-9352-6278cb5929c2"
      },
      "source": [
        "#@title Define the functions that create and train a model.\n",
        "def create_model(my_learning_rate, feature_layer, my_metrics):\n",
        "  \"\"\"Create and compile a simple classification model.\"\"\"\n",
        "  # Most simple tf.keras models are sequential.\n",
        "  model = tf.keras.models.Sequential()\n",
        "\n",
        "  # Add the feature layer (the list of features and how they are represented)\n",
        "  # to the model.\n",
        "  model.add(feature_layer)\n",
        "\n",
        "  # Implement L2 regularization in the first hidden layer.\n",
        "  model.add(tf.keras.layers.Dense(units=20, \n",
        "                                  activation='relu',\n",
        "                                  kernel_regularizer=tf.keras.regularizers.l2(0.04),\n",
        "                                  name='Hidden1'))\n",
        "  \n",
        "  # Implement L2 regularization in the second hidden layer.\n",
        "  model.add(tf.keras.layers.Dense(units=12, \n",
        "                                  activation='relu', \n",
        "                                  kernel_regularizer=tf.keras.regularizers.l2(0.04),\n",
        "                                  name='Hidden2'))\n",
        "    \n",
        "  # Funnel the regression value through a sigmoid function.\n",
        "  model.add(tf.keras.layers.Dense(units=1, input_shape=(1,),\n",
        "                                  activation=tf.sigmoid),)\n",
        "\n",
        "  # Call the compile method to construct the layers into a model that\n",
        "  # TensorFlow can execute.  Notice that we're using a different loss\n",
        "  # function for classification than for regression.    \n",
        "  model.compile(optimizer=tf.keras.optimizers.RMSprop(lr=my_learning_rate),                                                   \n",
        "                loss=tf.keras.losses.BinaryCrossentropy(),\n",
        "                metrics=my_metrics)\n",
        "\n",
        "  return model        \n",
        "\n",
        "\n",
        "def train_model(model, dataset, epochs, label_name,\n",
        "                batch_size=None):\n",
        "  \"\"\"Feed a dataset into the model in order to train it.\"\"\"\n",
        "\n",
        "  # The x parameter of tf.keras.Model.fit can be a list of arrays, where\n",
        "  # each array contains the data for one feature.  Here, we're passing\n",
        "  # every column in the dataset. Note that the feature_layer will filter\n",
        "  # away most of those columns, leaving only the desired columns and their\n",
        "  # representations as features.\n",
        "  features = {name:np.array(value) for name, value in dataset.items()}\n",
        "  label = np.array(features.pop(label_name)) \n",
        "  history = model.fit(x=features, y=label, batch_size=batch_size,\n",
        "                      epochs=epochs)\n",
        "  \n",
        "  # The list of epochs is stored separately from the rest of history.\n",
        "  epochs = history.epoch\n",
        "\n",
        "  # Isolate the classification metric for each epoch.\n",
        "  hist = pd.DataFrame(history.history)\n",
        "\n",
        "  return epochs, hist  \n",
        "\n",
        "print(\"Defined the create_model and train_model functions.\")   "
      ],
      "execution_count": 0,
      "outputs": [
        {
          "output_type": "stream",
          "text": [
            "Defined the create_model and train_model functions.\n"
          ],
          "name": "stdout"
        }
      ]
    },
    {
      "cell_type": "code",
      "metadata": {
        "id": "FPHby_d6TD9o",
        "colab_type": "code",
        "colab": {},
        "outputId": "7235ad9f-b96b-4463-9cbb-009085a72bb6"
      },
      "source": [
        "#@title Define the plotting function.\n",
        "def plot_curve(epochs, hist, list_of_metrics):\n",
        "  \"\"\"Plot a curve of one or more classification metrics vs. epoch.\"\"\"  \n",
        "  # list_of_metrics should be one of the names shown in:\n",
        "  # https://www.tensorflow.org/tutorials/structured_data/imbalanced_data#define_the_model_and_metrics  \n",
        "\n",
        "  plt.figure()\n",
        "  plt.xlabel(\"Epoch\")\n",
        "  plt.ylabel(\"Value\")\n",
        "\n",
        "  for m in list_of_metrics:\n",
        "    x = hist[m]\n",
        "    plt.plot(epochs[1:], x[1:], label=m)\n",
        "\n",
        "  plt.legend()\n",
        "\n",
        "print(\"Defined the plot_curve function.\")"
      ],
      "execution_count": 0,
      "outputs": [
        {
          "output_type": "stream",
          "text": [
            "Defined the plot_curve function.\n"
          ],
          "name": "stdout"
        }
      ]
    },
    {
      "cell_type": "code",
      "metadata": {
        "id": "tncEa9m0TD9u",
        "colab_type": "code",
        "colab": {},
        "outputId": "7cbf37af-cbbc-4eff-e55b-8076f70804dc"
      },
      "source": [
        "# The following variables are the hyperparameters.\n",
        "learning_rate = 0.001\n",
        "epochs = 100\n",
        "batch_size = 10\n",
        "label_name = \"Class_att\"\n",
        "classification_threshold = 0.70\n",
        "\n",
        "# Establish the metrics the model will measure.\n",
        "METRICS = [\n",
        "           tf.keras.metrics.BinaryAccuracy(name='accuracy', \n",
        "                                           threshold=classification_threshold),\n",
        "          ]\n",
        "\n",
        "# Establish the model's topography.\n",
        "my_model = create_model(learning_rate, feature_layer, METRICS)\n",
        "\n",
        "# Train the model on the training set.\n",
        "epochs, hist = train_model(my_model, train, epochs, \n",
        "                           label_name, batch_size)\n",
        "\n",
        "# Plot a graph of the metric(s) vs. epochs.\n",
        "list_of_metrics_to_plot = ['accuracy'] \n",
        "\n",
        "plot_curve(epochs, hist, list_of_metrics_to_plot)"
      ],
      "execution_count": 0,
      "outputs": [
        {
          "output_type": "stream",
          "text": [
            "Train on 198 samples\n",
            "Epoch 1/100\n",
            "198/198 [==============================] - 2s 11ms/sample - loss: 1.5259 - accuracy: 0.7071\n",
            "Epoch 2/100\n",
            "198/198 [==============================] - 0s 399us/sample - loss: 1.3675 - accuracy: 0.7071\n",
            "Epoch 3/100\n",
            "198/198 [==============================] - 0s 338us/sample - loss: 1.2528 - accuracy: 0.7071\n",
            "Epoch 4/100\n",
            "198/198 [==============================] - 0s 545us/sample - loss: 1.1577 - accuracy: 0.7071\n",
            "Epoch 5/100\n",
            "198/198 [==============================] - 0s 510us/sample - loss: 1.0751 - accuracy: 0.7071\n",
            "Epoch 6/100\n",
            "198/198 [==============================] - 0s 459us/sample - loss: 1.0027 - accuracy: 0.7071\n",
            "Epoch 7/100\n",
            "198/198 [==============================] - 0s 464us/sample - loss: 0.9368 - accuracy: 0.7071\n",
            "Epoch 8/100\n",
            "198/198 [==============================] - 0s 404us/sample - loss: 0.8786 - accuracy: 0.7071\n",
            "Epoch 9/100\n",
            "198/198 [==============================] - 0s 424us/sample - loss: 0.8261 - accuracy: 0.7071\n",
            "Epoch 10/100\n",
            "198/198 [==============================] - 0s 404us/sample - loss: 0.7786 - accuracy: 0.7071\n",
            "Epoch 11/100\n",
            "198/198 [==============================] - 0s 399us/sample - loss: 0.7371 - accuracy: 0.7071\n",
            "Epoch 12/100\n",
            "198/198 [==============================] - 0s 394us/sample - loss: 0.6996 - accuracy: 0.7071\n",
            "Epoch 13/100\n",
            "198/198 [==============================] - 0s 434us/sample - loss: 0.6664 - accuracy: 0.7071\n",
            "Epoch 14/100\n",
            "198/198 [==============================] - 0s 409us/sample - loss: 0.6369 - accuracy: 0.7071\n",
            "Epoch 15/100\n",
            "198/198 [==============================] - 0s 469us/sample - loss: 0.6115 - accuracy: 0.7071\n",
            "Epoch 16/100\n",
            "198/198 [==============================] - 0s 343us/sample - loss: 0.5889 - accuracy: 0.7071\n",
            "Epoch 17/100\n",
            "198/198 [==============================] - 0s 409us/sample - loss: 0.5699 - accuracy: 0.7071\n",
            "Epoch 18/100\n",
            "198/198 [==============================] - 0s 394us/sample - loss: 0.5530 - accuracy: 0.7071\n",
            "Epoch 19/100\n",
            "198/198 [==============================] - 0s 351us/sample - loss: 0.5385 - accuracy: 0.7071\n",
            "Epoch 20/100\n",
            "198/198 [==============================] - 0s 389us/sample - loss: 0.5256 - accuracy: 0.7071\n",
            "Epoch 21/100\n",
            "198/198 [==============================] - 0s 333us/sample - loss: 0.5151 - accuracy: 0.7071\n",
            "Epoch 22/100\n",
            "198/198 [==============================] - 0s 323us/sample - loss: 0.5054 - accuracy: 0.7071\n",
            "Epoch 23/100\n",
            "198/198 [==============================] - 0s 429us/sample - loss: 0.4978 - accuracy: 0.7071\n",
            "Epoch 24/100\n",
            "198/198 [==============================] - 0s 353us/sample - loss: 0.4906 - accuracy: 0.7071\n",
            "Epoch 25/100\n",
            "198/198 [==============================] - 0s 323us/sample - loss: 0.4848 - accuracy: 0.7071\n",
            "Epoch 26/100\n",
            "198/198 [==============================] - 0s 459us/sample - loss: 0.4785 - accuracy: 0.7071\n",
            "Epoch 27/100\n",
            "198/198 [==============================] - 0s 307us/sample - loss: 0.4725 - accuracy: 0.7071\n",
            "Epoch 28/100\n",
            "198/198 [==============================] - 0s 384us/sample - loss: 0.4693 - accuracy: 0.7071\n",
            "Epoch 29/100\n",
            "198/198 [==============================] - 0s 338us/sample - loss: 0.4646 - accuracy: 0.7071\n",
            "Epoch 30/100\n",
            "198/198 [==============================] - 0s 333us/sample - loss: 0.4592 - accuracy: 0.7071\n",
            "Epoch 31/100\n",
            "198/198 [==============================] - 0s 444us/sample - loss: 0.4575 - accuracy: 0.7071\n",
            "Epoch 32/100\n",
            "198/198 [==============================] - 0s 424us/sample - loss: 0.4528 - accuracy: 0.7071\n",
            "Epoch 33/100\n",
            "198/198 [==============================] - 0s 374us/sample - loss: 0.4498 - accuracy: 0.7071\n",
            "Epoch 34/100\n",
            "198/198 [==============================] - 0s 343us/sample - loss: 0.4458 - accuracy: 0.7071\n",
            "Epoch 35/100\n",
            "198/198 [==============================] - 0s 333us/sample - loss: 0.4439 - accuracy: 0.7071\n",
            "Epoch 36/100\n",
            "198/198 [==============================] - 0s 374us/sample - loss: 0.4414 - accuracy: 0.7071\n",
            "Epoch 37/100\n",
            "198/198 [==============================] - 0s 333us/sample - loss: 0.4382 - accuracy: 0.7071\n",
            "Epoch 38/100\n",
            "198/198 [==============================] - 0s 343us/sample - loss: 0.4359 - accuracy: 0.7071\n",
            "Epoch 39/100\n",
            "198/198 [==============================] - 0s 358us/sample - loss: 0.4329 - accuracy: 0.7071\n",
            "Epoch 40/100\n",
            "198/198 [==============================] - 0s 384us/sample - loss: 0.4310 - accuracy: 0.7071\n",
            "Epoch 41/100\n",
            "198/198 [==============================] - 0s 368us/sample - loss: 0.4292 - accuracy: 0.7071\n",
            "Epoch 42/100\n",
            "198/198 [==============================] - 0s 363us/sample - loss: 0.4280 - accuracy: 0.7071\n",
            "Epoch 43/100\n",
            "198/198 [==============================] - 0s 343us/sample - loss: 0.4258 - accuracy: 0.7071\n",
            "Epoch 44/100\n",
            "198/198 [==============================] - 0s 368us/sample - loss: 0.4241 - accuracy: 0.7071\n",
            "Epoch 45/100\n",
            "198/198 [==============================] - 0s 374us/sample - loss: 0.4217 - accuracy: 0.7071\n",
            "Epoch 46/100\n",
            "198/198 [==============================] - 0s 353us/sample - loss: 0.4213 - accuracy: 0.7071\n",
            "Epoch 47/100\n",
            "198/198 [==============================] - 0s 419us/sample - loss: 0.4196 - accuracy: 0.7071\n",
            "Epoch 48/100\n",
            "198/198 [==============================] - 0s 404us/sample - loss: 0.4169 - accuracy: 0.7071\n",
            "Epoch 49/100\n",
            "198/198 [==============================] - 0s 406us/sample - loss: 0.4172 - accuracy: 0.7071\n",
            "Epoch 50/100\n",
            "198/198 [==============================] - 0s 384us/sample - loss: 0.4143 - accuracy: 0.7071\n",
            "Epoch 51/100\n",
            "198/198 [==============================] - 0s 343us/sample - loss: 0.4130 - accuracy: 0.7071\n",
            "Epoch 52/100\n",
            "198/198 [==============================] - 0s 368us/sample - loss: 0.4130 - accuracy: 0.7071\n",
            "Epoch 53/100\n",
            "198/198 [==============================] - 0s 338us/sample - loss: 0.4121 - accuracy: 0.7071\n",
            "Epoch 54/100\n",
            "198/198 [==============================] - 0s 333us/sample - loss: 0.4084 - accuracy: 0.7071\n",
            "Epoch 55/100\n",
            "198/198 [==============================] - 0s 353us/sample - loss: 0.4081 - accuracy: 0.7071\n",
            "Epoch 56/100\n",
            "198/198 [==============================] - 0s 348us/sample - loss: 0.4078 - accuracy: 0.7071\n",
            "Epoch 57/100\n",
            "198/198 [==============================] - 0s 429us/sample - loss: 0.4062 - accuracy: 0.7071\n",
            "Epoch 58/100\n",
            "198/198 [==============================] - 0s 437us/sample - loss: 0.4056 - accuracy: 0.7071\n",
            "Epoch 59/100\n",
            "198/198 [==============================] - 0s 368us/sample - loss: 0.4030 - accuracy: 0.7071\n",
            "Epoch 60/100\n",
            "198/198 [==============================] - 0s 353us/sample - loss: 0.4038 - accuracy: 0.7071\n",
            "Epoch 61/100\n",
            "198/198 [==============================] - 0s 353us/sample - loss: 0.4022 - accuracy: 0.7071\n",
            "Epoch 62/100\n",
            "198/198 [==============================] - 0s 379us/sample - loss: 0.4006 - accuracy: 0.7071\n",
            "Epoch 63/100\n",
            "198/198 [==============================] - 0s 353us/sample - loss: 0.4005 - accuracy: 0.7071\n",
            "Epoch 64/100\n",
            "198/198 [==============================] - 0s 399us/sample - loss: 0.4002 - accuracy: 0.7071\n",
            "Epoch 65/100\n",
            "198/198 [==============================] - 0s 384us/sample - loss: 0.3978 - accuracy: 0.7071\n",
            "Epoch 66/100\n",
            "198/198 [==============================] - 0s 404us/sample - loss: 0.3990 - accuracy: 0.7071\n",
            "Epoch 67/100\n",
            "198/198 [==============================] - 0s 389us/sample - loss: 0.3970 - accuracy: 0.7071\n",
            "Epoch 68/100\n",
            "198/198 [==============================] - 0s 374us/sample - loss: 0.3954 - accuracy: 0.7071\n",
            "Epoch 69/100\n",
            "198/198 [==============================] - 0s 328us/sample - loss: 0.3940 - accuracy: 0.7071\n",
            "Epoch 70/100\n",
            "198/198 [==============================] - 0s 368us/sample - loss: 0.3942 - accuracy: 0.7071\n",
            "Epoch 71/100\n",
            "198/198 [==============================] - 0s 374us/sample - loss: 0.3938 - accuracy: 0.7071\n",
            "Epoch 72/100\n",
            "198/198 [==============================] - 0s 374us/sample - loss: 0.3941 - accuracy: 0.7071\n",
            "Epoch 73/100\n",
            "198/198 [==============================] - 0s 454us/sample - loss: 0.3898 - accuracy: 0.7121\n",
            "Epoch 74/100\n",
            "198/198 [==============================] - 0s 500us/sample - loss: 0.3907 - accuracy: 0.7071\n",
            "Epoch 75/100\n",
            "198/198 [==============================] - 0s 434us/sample - loss: 0.3891 - accuracy: 0.7071\n",
            "Epoch 76/100\n",
            "198/198 [==============================] - 0s 394us/sample - loss: 0.3906 - accuracy: 0.7071\n",
            "Epoch 77/100\n",
            "198/198 [==============================] - 0s 407us/sample - loss: 0.3884 - accuracy: 0.7071\n",
            "Epoch 78/100\n",
            "198/198 [==============================] - 0s 366us/sample - loss: 0.3890 - accuracy: 0.7071\n",
            "Epoch 79/100\n",
            "198/198 [==============================] - 0s 338us/sample - loss: 0.3879 - accuracy: 0.7071\n",
            "Epoch 80/100\n",
            "198/198 [==============================] - 0s 374us/sample - loss: 0.3863 - accuracy: 0.7071\n",
            "Epoch 81/100\n",
            "198/198 [==============================] - 0s 338us/sample - loss: 0.3850 - accuracy: 0.7071\n",
            "Epoch 82/100\n",
            "198/198 [==============================] - 0s 353us/sample - loss: 0.3838 - accuracy: 0.7071\n",
            "Epoch 83/100\n",
            "198/198 [==============================] - 0s 384us/sample - loss: 0.3833 - accuracy: 0.7121\n",
            "Epoch 84/100\n",
            "198/198 [==============================] - 0s 353us/sample - loss: 0.3839 - accuracy: 0.7121\n",
            "Epoch 85/100\n",
            "198/198 [==============================] - 0s 336us/sample - loss: 0.3833 - accuracy: 0.7071\n",
            "Epoch 86/100\n",
            "198/198 [==============================] - 0s 338us/sample - loss: 0.3834 - accuracy: 0.7071\n",
            "Epoch 87/100\n",
            "198/198 [==============================] - 0s 333us/sample - loss: 0.3834 - accuracy: 0.7071\n",
            "Epoch 88/100\n",
            "198/198 [==============================] - 0s 348us/sample - loss: 0.3821 - accuracy: 0.7121\n",
            "Epoch 89/100\n",
            "198/198 [==============================] - 0s 323us/sample - loss: 0.3808 - accuracy: 0.7071\n",
            "Epoch 90/100\n",
            "198/198 [==============================] - 0s 333us/sample - loss: 0.3796 - accuracy: 0.7121\n",
            "Epoch 91/100\n",
            "198/198 [==============================] - 0s 343us/sample - loss: 0.3805 - accuracy: 0.7121\n",
            "Epoch 92/100\n",
            "198/198 [==============================] - 0s 338us/sample - loss: 0.3776 - accuracy: 0.7121\n",
            "Epoch 93/100\n",
            "198/198 [==============================] - 0s 313us/sample - loss: 0.3785 - accuracy: 0.7121\n",
            "Epoch 94/100\n",
            "198/198 [==============================] - 0s 353us/sample - loss: 0.3773 - accuracy: 0.7121\n",
            "Epoch 95/100\n",
            "198/198 [==============================] - 0s 353us/sample - loss: 0.3748 - accuracy: 0.7071\n",
            "Epoch 96/100\n",
            "198/198 [==============================] - 0s 338us/sample - loss: 0.3763 - accuracy: 0.7172\n",
            "Epoch 97/100\n",
            "198/198 [==============================] - 0s 389us/sample - loss: 0.3766 - accuracy: 0.7121\n",
            "Epoch 98/100\n",
            "198/198 [==============================] - 0s 368us/sample - loss: 0.3778 - accuracy: 0.7172\n",
            "Epoch 99/100\n",
            "198/198 [==============================] - 0s 434us/sample - loss: 0.3747 - accuracy: 0.7121\n",
            "Epoch 100/100\n",
            "198/198 [==============================] - 0s 358us/sample - loss: 0.3739 - accuracy: 0.7121\n"
          ],
          "name": "stdout"
        },
        {
          "output_type": "display_data",
          "data": {
            "image/png": "[encoded data removed]",
            "text/plain": [
              "<Figure size 432x288 with 1 Axes>"
            ]
          },
          "metadata": {
            "tags": [],
            "needs_background": "light"
          }
        }
      ]
    },
    {
      "cell_type": "code",
      "metadata": {
        "id": "efjadbV4TD9x",
        "colab_type": "code",
        "colab": {}
      },
      "source": [
        ""
      ],
      "execution_count": 0,
      "outputs": []
    },
    {
      "cell_type": "code",
      "metadata": {
        "id": "n5mqRkhoTD90",
        "colab_type": "code",
        "colab": {}
      },
      "source": [
        ""
      ],
      "execution_count": 0,
      "outputs": []
    },
    {
      "cell_type": "code",
      "metadata": {
        "id": "SfZ5ZIe_TD96",
        "colab_type": "code",
        "colab": {}
      },
      "source": [
        ""
      ],
      "execution_count": 0,
      "outputs": []
    },
    {
      "cell_type": "code",
      "metadata": {
        "id": "N7Rf_jJLTD9_",
        "colab_type": "code",
        "colab": {}
      },
      "source": [
        ""
      ],
      "execution_count": 0,
      "outputs": []
    },
    {
      "cell_type": "code",
      "metadata": {
        "id": "Hosq4Y2tTD-B",
        "colab_type": "code",
        "colab": {}
      },
      "source": [
        ""
      ],
      "execution_count": 0,
      "outputs": []
    },
    {
      "cell_type": "code",
      "metadata": {
        "id": "6T2zzOuuTD-E",
        "colab_type": "code",
        "colab": {}
      },
      "source": [
        ""
      ],
      "execution_count": 0,
      "outputs": []
    },
    {
      "cell_type": "code",
      "metadata": {
        "id": "wXzfVy42TD-G",
        "colab_type": "code",
        "colab": {}
      },
      "source": [
        ""
      ],
      "execution_count": 0,
      "outputs": []
    },
    {
      "cell_type": "code",
      "metadata": {
        "id": "p-02RdWjTD-J",
        "colab_type": "code",
        "colab": {}
      },
      "source": [
        ""
      ],
      "execution_count": 0,
      "outputs": []
    },
    {
      "cell_type": "code",
      "metadata": {
        "id": "iO6JT8W0TD-N",
        "colab_type": "code",
        "colab": {}
      },
      "source": [
        ""
      ],
      "execution_count": 0,
      "outputs": []
    },
    {
      "cell_type": "code",
      "metadata": {
        "id": "0who868YTD-Q",
        "colab_type": "code",
        "colab": {}
      },
      "source": [
        ""
      ],
      "execution_count": 0,
      "outputs": []
    },
    {
      "cell_type": "code",
      "metadata": {
        "id": "zKbZl5K4TD-Y",
        "colab_type": "code",
        "colab": {}
      },
      "source": [
        ""
      ],
      "execution_count": 0,
      "outputs": []
    },
    {
      "cell_type": "code",
      "metadata": {
        "id": "eSUx03KbTD-f",
        "colab_type": "code",
        "colab": {}
      },
      "source": [
        ""
      ],
      "execution_count": 0,
      "outputs": []
    },
    {
      "cell_type": "code",
      "metadata": {
        "id": "T5sRRx-LTD-i",
        "colab_type": "code",
        "colab": {}
      },
      "source": [
        ""
      ],
      "execution_count": 0,
      "outputs": []
    },
    {
      "cell_type": "code",
      "metadata": {
        "id": "sWqhGbAyTD-k",
        "colab_type": "code",
        "colab": {}
      },
      "source": [
        ""
      ],
      "execution_count": 0,
      "outputs": []
    },
    {
      "cell_type": "code",
      "metadata": {
        "id": "9p1xejQwTD-n",
        "colab_type": "code",
        "colab": {}
      },
      "source": [
        ""
      ],
      "execution_count": 0,
      "outputs": []
    },
    {
      "cell_type": "code",
      "metadata": {
        "id": "2VcBD1ggTD-r",
        "colab_type": "code",
        "colab": {}
      },
      "source": [
        ""
      ],
      "execution_count": 0,
      "outputs": []
    }
  ]
}