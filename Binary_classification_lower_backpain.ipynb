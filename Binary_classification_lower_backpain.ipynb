{
 "cells": [
  {
   "cell_type": "code",
   "execution_count": 142,
   "metadata": {},
   "outputs": [],
   "source": [
    "import os\n",
    "import math\n",
    "import pandas as pd\n",
    "import numpy as np\n",
    "import tensorflow as tf\n",
    "import matplotlib.pyplot as plt\n",
    "from tensorflow.python.data import Dataset\n",
    "from tensorflow.keras import optimizers\n",
    "from tensorflow.keras import layers\n",
    "from sklearn import metrics\n",
    "from sklearn.model_selection import train_test_split\n",
    "from matplotlib import cm"
   ]
  },
  {
   "cell_type": "code",
   "execution_count": 143,
   "metadata": {},
   "outputs": [],
   "source": [
    "data = pd.read_csv('C:/Users/admin/Documents/Bangkit/bangkit-assignment5/Dataset_spine.csv')\n",
    "df = data"
   ]
  },
  {
   "cell_type": "code",
   "execution_count": 144,
   "metadata": {},
   "outputs": [
    {
     "data": {
      "text/html": [
       "<div>\n",
       "<style scoped>\n",
       "    .dataframe tbody tr th:only-of-type {\n",
       "        vertical-align: middle;\n",
       "    }\n",
       "\n",
       "    .dataframe tbody tr th {\n",
       "        vertical-align: top;\n",
       "    }\n",
       "\n",
       "    .dataframe thead th {\n",
       "        text-align: right;\n",
       "    }\n",
       "</style>\n",
       "<table border=\"1\" class=\"dataframe\">\n",
       "  <thead>\n",
       "    <tr style=\"text-align: right;\">\n",
       "      <th></th>\n",
       "      <th>Col1</th>\n",
       "      <th>Col2</th>\n",
       "      <th>Col3</th>\n",
       "      <th>Col4</th>\n",
       "      <th>Col5</th>\n",
       "      <th>Col6</th>\n",
       "      <th>Col7</th>\n",
       "      <th>Col8</th>\n",
       "      <th>Col9</th>\n",
       "      <th>Col10</th>\n",
       "      <th>Col11</th>\n",
       "      <th>Col12</th>\n",
       "      <th>Class_att</th>\n",
       "      <th>Unnamed: 13</th>\n",
       "    </tr>\n",
       "  </thead>\n",
       "  <tbody>\n",
       "    <tr>\n",
       "      <td>0</td>\n",
       "      <td>63.027818</td>\n",
       "      <td>22.552586</td>\n",
       "      <td>39.609117</td>\n",
       "      <td>40.475232</td>\n",
       "      <td>98.672917</td>\n",
       "      <td>-0.254400</td>\n",
       "      <td>0.744503</td>\n",
       "      <td>12.5661</td>\n",
       "      <td>14.5386</td>\n",
       "      <td>15.30468</td>\n",
       "      <td>-28.658501</td>\n",
       "      <td>43.5123</td>\n",
       "      <td>Abnormal</td>\n",
       "      <td>NaN</td>\n",
       "    </tr>\n",
       "    <tr>\n",
       "      <td>1</td>\n",
       "      <td>39.056951</td>\n",
       "      <td>10.060991</td>\n",
       "      <td>25.015378</td>\n",
       "      <td>28.995960</td>\n",
       "      <td>114.405425</td>\n",
       "      <td>4.564259</td>\n",
       "      <td>0.415186</td>\n",
       "      <td>12.8874</td>\n",
       "      <td>17.5323</td>\n",
       "      <td>16.78486</td>\n",
       "      <td>-25.530607</td>\n",
       "      <td>16.1102</td>\n",
       "      <td>Abnormal</td>\n",
       "      <td>NaN</td>\n",
       "    </tr>\n",
       "    <tr>\n",
       "      <td>2</td>\n",
       "      <td>68.832021</td>\n",
       "      <td>22.218482</td>\n",
       "      <td>50.092194</td>\n",
       "      <td>46.613539</td>\n",
       "      <td>105.985135</td>\n",
       "      <td>-3.530317</td>\n",
       "      <td>0.474889</td>\n",
       "      <td>26.8343</td>\n",
       "      <td>17.4861</td>\n",
       "      <td>16.65897</td>\n",
       "      <td>-29.031888</td>\n",
       "      <td>19.2221</td>\n",
       "      <td>Abnormal</td>\n",
       "      <td>Prediction is done by using binary classificat...</td>\n",
       "    </tr>\n",
       "    <tr>\n",
       "      <td>3</td>\n",
       "      <td>69.297008</td>\n",
       "      <td>24.652878</td>\n",
       "      <td>44.311238</td>\n",
       "      <td>44.644130</td>\n",
       "      <td>101.868495</td>\n",
       "      <td>11.211523</td>\n",
       "      <td>0.369345</td>\n",
       "      <td>23.5603</td>\n",
       "      <td>12.7074</td>\n",
       "      <td>11.42447</td>\n",
       "      <td>-30.470246</td>\n",
       "      <td>18.8329</td>\n",
       "      <td>Abnormal</td>\n",
       "      <td>NaN</td>\n",
       "    </tr>\n",
       "    <tr>\n",
       "      <td>4</td>\n",
       "      <td>49.712859</td>\n",
       "      <td>9.652075</td>\n",
       "      <td>28.317406</td>\n",
       "      <td>40.060784</td>\n",
       "      <td>108.168725</td>\n",
       "      <td>7.918501</td>\n",
       "      <td>0.543360</td>\n",
       "      <td>35.4940</td>\n",
       "      <td>15.9546</td>\n",
       "      <td>8.87237</td>\n",
       "      <td>-16.378376</td>\n",
       "      <td>24.9171</td>\n",
       "      <td>Abnormal</td>\n",
       "      <td>NaN</td>\n",
       "    </tr>\n",
       "  </tbody>\n",
       "</table>\n",
       "</div>"
      ],
      "text/plain": [
       "        Col1       Col2       Col3       Col4        Col5       Col6  \\\n",
       "0  63.027818  22.552586  39.609117  40.475232   98.672917  -0.254400   \n",
       "1  39.056951  10.060991  25.015378  28.995960  114.405425   4.564259   \n",
       "2  68.832021  22.218482  50.092194  46.613539  105.985135  -3.530317   \n",
       "3  69.297008  24.652878  44.311238  44.644130  101.868495  11.211523   \n",
       "4  49.712859   9.652075  28.317406  40.060784  108.168725   7.918501   \n",
       "\n",
       "       Col7     Col8     Col9     Col10      Col11    Col12 Class_att  \\\n",
       "0  0.744503  12.5661  14.5386  15.30468 -28.658501  43.5123  Abnormal   \n",
       "1  0.415186  12.8874  17.5323  16.78486 -25.530607  16.1102  Abnormal   \n",
       "2  0.474889  26.8343  17.4861  16.65897 -29.031888  19.2221  Abnormal   \n",
       "3  0.369345  23.5603  12.7074  11.42447 -30.470246  18.8329  Abnormal   \n",
       "4  0.543360  35.4940  15.9546   8.87237 -16.378376  24.9171  Abnormal   \n",
       "\n",
       "                                         Unnamed: 13  \n",
       "0                                                NaN  \n",
       "1                                                NaN  \n",
       "2  Prediction is done by using binary classificat...  \n",
       "3                                                NaN  \n",
       "4                                                NaN  "
      ]
     },
     "execution_count": 144,
     "metadata": {},
     "output_type": "execute_result"
    }
   ],
   "source": [
    "df.head(5)"
   ]
  },
  {
   "cell_type": "code",
   "execution_count": 145,
   "metadata": {},
   "outputs": [],
   "source": [
    "df = df.loc[:, ~df.columns.str.contains('^Unnamed')]"
   ]
  },
  {
   "cell_type": "code",
   "execution_count": 146,
   "metadata": {},
   "outputs": [
    {
     "data": {
      "text/html": [
       "<div>\n",
       "<style scoped>\n",
       "    .dataframe tbody tr th:only-of-type {\n",
       "        vertical-align: middle;\n",
       "    }\n",
       "\n",
       "    .dataframe tbody tr th {\n",
       "        vertical-align: top;\n",
       "    }\n",
       "\n",
       "    .dataframe thead th {\n",
       "        text-align: right;\n",
       "    }\n",
       "</style>\n",
       "<table border=\"1\" class=\"dataframe\">\n",
       "  <thead>\n",
       "    <tr style=\"text-align: right;\">\n",
       "      <th></th>\n",
       "      <th>Col1</th>\n",
       "      <th>Col2</th>\n",
       "      <th>Col3</th>\n",
       "      <th>Col4</th>\n",
       "      <th>Col5</th>\n",
       "      <th>Col6</th>\n",
       "      <th>Col7</th>\n",
       "      <th>Col8</th>\n",
       "      <th>Col9</th>\n",
       "      <th>Col10</th>\n",
       "      <th>Col11</th>\n",
       "      <th>Col12</th>\n",
       "      <th>Class_att</th>\n",
       "    </tr>\n",
       "  </thead>\n",
       "  <tbody>\n",
       "    <tr>\n",
       "      <td>0</td>\n",
       "      <td>63.027818</td>\n",
       "      <td>22.552586</td>\n",
       "      <td>39.609117</td>\n",
       "      <td>40.475232</td>\n",
       "      <td>98.672917</td>\n",
       "      <td>-0.254400</td>\n",
       "      <td>0.744503</td>\n",
       "      <td>12.5661</td>\n",
       "      <td>14.5386</td>\n",
       "      <td>15.30468</td>\n",
       "      <td>-28.658501</td>\n",
       "      <td>43.5123</td>\n",
       "      <td>Abnormal</td>\n",
       "    </tr>\n",
       "    <tr>\n",
       "      <td>1</td>\n",
       "      <td>39.056951</td>\n",
       "      <td>10.060991</td>\n",
       "      <td>25.015378</td>\n",
       "      <td>28.995960</td>\n",
       "      <td>114.405425</td>\n",
       "      <td>4.564259</td>\n",
       "      <td>0.415186</td>\n",
       "      <td>12.8874</td>\n",
       "      <td>17.5323</td>\n",
       "      <td>16.78486</td>\n",
       "      <td>-25.530607</td>\n",
       "      <td>16.1102</td>\n",
       "      <td>Abnormal</td>\n",
       "    </tr>\n",
       "    <tr>\n",
       "      <td>2</td>\n",
       "      <td>68.832021</td>\n",
       "      <td>22.218482</td>\n",
       "      <td>50.092194</td>\n",
       "      <td>46.613539</td>\n",
       "      <td>105.985135</td>\n",
       "      <td>-3.530317</td>\n",
       "      <td>0.474889</td>\n",
       "      <td>26.8343</td>\n",
       "      <td>17.4861</td>\n",
       "      <td>16.65897</td>\n",
       "      <td>-29.031888</td>\n",
       "      <td>19.2221</td>\n",
       "      <td>Abnormal</td>\n",
       "    </tr>\n",
       "    <tr>\n",
       "      <td>3</td>\n",
       "      <td>69.297008</td>\n",
       "      <td>24.652878</td>\n",
       "      <td>44.311238</td>\n",
       "      <td>44.644130</td>\n",
       "      <td>101.868495</td>\n",
       "      <td>11.211523</td>\n",
       "      <td>0.369345</td>\n",
       "      <td>23.5603</td>\n",
       "      <td>12.7074</td>\n",
       "      <td>11.42447</td>\n",
       "      <td>-30.470246</td>\n",
       "      <td>18.8329</td>\n",
       "      <td>Abnormal</td>\n",
       "    </tr>\n",
       "    <tr>\n",
       "      <td>4</td>\n",
       "      <td>49.712859</td>\n",
       "      <td>9.652075</td>\n",
       "      <td>28.317406</td>\n",
       "      <td>40.060784</td>\n",
       "      <td>108.168725</td>\n",
       "      <td>7.918501</td>\n",
       "      <td>0.543360</td>\n",
       "      <td>35.4940</td>\n",
       "      <td>15.9546</td>\n",
       "      <td>8.87237</td>\n",
       "      <td>-16.378376</td>\n",
       "      <td>24.9171</td>\n",
       "      <td>Abnormal</td>\n",
       "    </tr>\n",
       "  </tbody>\n",
       "</table>\n",
       "</div>"
      ],
      "text/plain": [
       "        Col1       Col2       Col3       Col4        Col5       Col6  \\\n",
       "0  63.027818  22.552586  39.609117  40.475232   98.672917  -0.254400   \n",
       "1  39.056951  10.060991  25.015378  28.995960  114.405425   4.564259   \n",
       "2  68.832021  22.218482  50.092194  46.613539  105.985135  -3.530317   \n",
       "3  69.297008  24.652878  44.311238  44.644130  101.868495  11.211523   \n",
       "4  49.712859   9.652075  28.317406  40.060784  108.168725   7.918501   \n",
       "\n",
       "       Col7     Col8     Col9     Col10      Col11    Col12 Class_att  \n",
       "0  0.744503  12.5661  14.5386  15.30468 -28.658501  43.5123  Abnormal  \n",
       "1  0.415186  12.8874  17.5323  16.78486 -25.530607  16.1102  Abnormal  \n",
       "2  0.474889  26.8343  17.4861  16.65897 -29.031888  19.2221  Abnormal  \n",
       "3  0.369345  23.5603  12.7074  11.42447 -30.470246  18.8329  Abnormal  \n",
       "4  0.543360  35.4940  15.9546   8.87237 -16.378376  24.9171  Abnormal  "
      ]
     },
     "execution_count": 146,
     "metadata": {},
     "output_type": "execute_result"
    }
   ],
   "source": [
    "df.head()"
   ]
  },
  {
   "cell_type": "code",
   "execution_count": 147,
   "metadata": {},
   "outputs": [],
   "source": [
    "df['Class_att'].replace({\"Abnormal\": 1, \"Normal\": 0}, inplace=True)"
   ]
  },
  {
   "cell_type": "code",
   "execution_count": 148,
   "metadata": {},
   "outputs": [
    {
     "data": {
      "text/html": [
       "<div>\n",
       "<style scoped>\n",
       "    .dataframe tbody tr th:only-of-type {\n",
       "        vertical-align: middle;\n",
       "    }\n",
       "\n",
       "    .dataframe tbody tr th {\n",
       "        vertical-align: top;\n",
       "    }\n",
       "\n",
       "    .dataframe thead th {\n",
       "        text-align: right;\n",
       "    }\n",
       "</style>\n",
       "<table border=\"1\" class=\"dataframe\">\n",
       "  <thead>\n",
       "    <tr style=\"text-align: right;\">\n",
       "      <th></th>\n",
       "      <th>Col1</th>\n",
       "      <th>Col2</th>\n",
       "      <th>Col3</th>\n",
       "      <th>Col4</th>\n",
       "      <th>Col5</th>\n",
       "      <th>Col6</th>\n",
       "      <th>Col7</th>\n",
       "      <th>Col8</th>\n",
       "      <th>Col9</th>\n",
       "      <th>Col10</th>\n",
       "      <th>Col11</th>\n",
       "      <th>Col12</th>\n",
       "      <th>Class_att</th>\n",
       "    </tr>\n",
       "  </thead>\n",
       "  <tbody>\n",
       "    <tr>\n",
       "      <td>0</td>\n",
       "      <td>63.027818</td>\n",
       "      <td>22.552586</td>\n",
       "      <td>39.609117</td>\n",
       "      <td>40.475232</td>\n",
       "      <td>98.672917</td>\n",
       "      <td>-0.254400</td>\n",
       "      <td>0.744503</td>\n",
       "      <td>12.5661</td>\n",
       "      <td>14.5386</td>\n",
       "      <td>15.30468</td>\n",
       "      <td>-28.658501</td>\n",
       "      <td>43.5123</td>\n",
       "      <td>1</td>\n",
       "    </tr>\n",
       "    <tr>\n",
       "      <td>1</td>\n",
       "      <td>39.056951</td>\n",
       "      <td>10.060991</td>\n",
       "      <td>25.015378</td>\n",
       "      <td>28.995960</td>\n",
       "      <td>114.405425</td>\n",
       "      <td>4.564259</td>\n",
       "      <td>0.415186</td>\n",
       "      <td>12.8874</td>\n",
       "      <td>17.5323</td>\n",
       "      <td>16.78486</td>\n",
       "      <td>-25.530607</td>\n",
       "      <td>16.1102</td>\n",
       "      <td>1</td>\n",
       "    </tr>\n",
       "    <tr>\n",
       "      <td>2</td>\n",
       "      <td>68.832021</td>\n",
       "      <td>22.218482</td>\n",
       "      <td>50.092194</td>\n",
       "      <td>46.613539</td>\n",
       "      <td>105.985135</td>\n",
       "      <td>-3.530317</td>\n",
       "      <td>0.474889</td>\n",
       "      <td>26.8343</td>\n",
       "      <td>17.4861</td>\n",
       "      <td>16.65897</td>\n",
       "      <td>-29.031888</td>\n",
       "      <td>19.2221</td>\n",
       "      <td>1</td>\n",
       "    </tr>\n",
       "    <tr>\n",
       "      <td>3</td>\n",
       "      <td>69.297008</td>\n",
       "      <td>24.652878</td>\n",
       "      <td>44.311238</td>\n",
       "      <td>44.644130</td>\n",
       "      <td>101.868495</td>\n",
       "      <td>11.211523</td>\n",
       "      <td>0.369345</td>\n",
       "      <td>23.5603</td>\n",
       "      <td>12.7074</td>\n",
       "      <td>11.42447</td>\n",
       "      <td>-30.470246</td>\n",
       "      <td>18.8329</td>\n",
       "      <td>1</td>\n",
       "    </tr>\n",
       "    <tr>\n",
       "      <td>4</td>\n",
       "      <td>49.712859</td>\n",
       "      <td>9.652075</td>\n",
       "      <td>28.317406</td>\n",
       "      <td>40.060784</td>\n",
       "      <td>108.168725</td>\n",
       "      <td>7.918501</td>\n",
       "      <td>0.543360</td>\n",
       "      <td>35.4940</td>\n",
       "      <td>15.9546</td>\n",
       "      <td>8.87237</td>\n",
       "      <td>-16.378376</td>\n",
       "      <td>24.9171</td>\n",
       "      <td>1</td>\n",
       "    </tr>\n",
       "  </tbody>\n",
       "</table>\n",
       "</div>"
      ],
      "text/plain": [
       "        Col1       Col2       Col3       Col4        Col5       Col6  \\\n",
       "0  63.027818  22.552586  39.609117  40.475232   98.672917  -0.254400   \n",
       "1  39.056951  10.060991  25.015378  28.995960  114.405425   4.564259   \n",
       "2  68.832021  22.218482  50.092194  46.613539  105.985135  -3.530317   \n",
       "3  69.297008  24.652878  44.311238  44.644130  101.868495  11.211523   \n",
       "4  49.712859   9.652075  28.317406  40.060784  108.168725   7.918501   \n",
       "\n",
       "       Col7     Col8     Col9     Col10      Col11    Col12  Class_att  \n",
       "0  0.744503  12.5661  14.5386  15.30468 -28.658501  43.5123          1  \n",
       "1  0.415186  12.8874  17.5323  16.78486 -25.530607  16.1102          1  \n",
       "2  0.474889  26.8343  17.4861  16.65897 -29.031888  19.2221          1  \n",
       "3  0.369345  23.5603  12.7074  11.42447 -30.470246  18.8329          1  \n",
       "4  0.543360  35.4940  15.9546   8.87237 -16.378376  24.9171          1  "
      ]
     },
     "execution_count": 148,
     "metadata": {},
     "output_type": "execute_result"
    }
   ],
   "source": [
    "df.head()"
   ]
  },
  {
   "cell_type": "code",
   "execution_count": 149,
   "metadata": {},
   "outputs": [
    {
     "name": "stdout",
     "output_type": "stream",
     "text": [
      "<class 'pandas.core.frame.DataFrame'>\n",
      "RangeIndex: 310 entries, 0 to 309\n",
      "Data columns (total 13 columns):\n",
      "Col1         310 non-null float64\n",
      "Col2         310 non-null float64\n",
      "Col3         310 non-null float64\n",
      "Col4         310 non-null float64\n",
      "Col5         310 non-null float64\n",
      "Col6         310 non-null float64\n",
      "Col7         310 non-null float64\n",
      "Col8         310 non-null float64\n",
      "Col9         310 non-null float64\n",
      "Col10        310 non-null float64\n",
      "Col11        310 non-null float64\n",
      "Col12        310 non-null float64\n",
      "Class_att    310 non-null int64\n",
      "dtypes: float64(12), int64(1)\n",
      "memory usage: 31.6 KB\n"
     ]
    }
   ],
   "source": [
    "df.info()"
   ]
  },
  {
   "cell_type": "code",
   "execution_count": 126,
   "metadata": {},
   "outputs": [],
   "source": [
    "df_train, df_test = train_test_split(df, test_size=0.2)"
   ]
  },
  {
   "cell_type": "code",
   "execution_count": 127,
   "metadata": {},
   "outputs": [],
   "source": [
    "df_train = df_train.reindex(np.random.permutation(df_train.index))\n",
    "df_test = df_test.reindex(np.random.permutation(df_test.index)) "
   ]
  },
  {
   "cell_type": "code",
   "execution_count": 128,
   "metadata": {},
   "outputs": [
    {
     "data": {
      "text/plain": [
       "(248, 13)"
      ]
     },
     "execution_count": 128,
     "metadata": {},
     "output_type": "execute_result"
    }
   ],
   "source": [
    "df_train.shape"
   ]
  },
  {
   "cell_type": "code",
   "execution_count": 129,
   "metadata": {},
   "outputs": [
    {
     "data": {
      "text/html": [
       "<div>\n",
       "<style scoped>\n",
       "    .dataframe tbody tr th:only-of-type {\n",
       "        vertical-align: middle;\n",
       "    }\n",
       "\n",
       "    .dataframe tbody tr th {\n",
       "        vertical-align: top;\n",
       "    }\n",
       "\n",
       "    .dataframe thead th {\n",
       "        text-align: right;\n",
       "    }\n",
       "</style>\n",
       "<table border=\"1\" class=\"dataframe\">\n",
       "  <thead>\n",
       "    <tr style=\"text-align: right;\">\n",
       "      <th></th>\n",
       "      <th>Col1</th>\n",
       "      <th>Col2</th>\n",
       "      <th>Col3</th>\n",
       "      <th>Col4</th>\n",
       "      <th>Col5</th>\n",
       "      <th>Col6</th>\n",
       "      <th>Col7</th>\n",
       "      <th>Col8</th>\n",
       "      <th>Col9</th>\n",
       "      <th>Col10</th>\n",
       "      <th>Col11</th>\n",
       "      <th>Col12</th>\n",
       "      <th>Class_att</th>\n",
       "    </tr>\n",
       "  </thead>\n",
       "  <tbody>\n",
       "    <tr>\n",
       "      <td>253</td>\n",
       "      <td>0.199735</td>\n",
       "      <td>0.403542</td>\n",
       "      <td>0.699553</td>\n",
       "      <td>-0.053503</td>\n",
       "      <td>0.156148</td>\n",
       "      <td>-0.429733</td>\n",
       "      <td>0.472321</td>\n",
       "      <td>0.038380</td>\n",
       "      <td>-1.520626</td>\n",
       "      <td>-1.058514</td>\n",
       "      <td>0.436963</td>\n",
       "      <td>0.911007</td>\n",
       "      <td>-1.432974</td>\n",
       "    </tr>\n",
       "    <tr>\n",
       "      <td>63</td>\n",
       "      <td>1.067875</td>\n",
       "      <td>0.407228</td>\n",
       "      <td>0.614889</td>\n",
       "      <td>1.054531</td>\n",
       "      <td>-0.203993</td>\n",
       "      <td>0.050647</td>\n",
       "      <td>-1.492875</td>\n",
       "      <td>0.379171</td>\n",
       "      <td>0.626452</td>\n",
       "      <td>-0.250462</td>\n",
       "      <td>-0.749553</td>\n",
       "      <td>-0.862407</td>\n",
       "      <td>0.695035</td>\n",
       "    </tr>\n",
       "    <tr>\n",
       "      <td>172</td>\n",
       "      <td>-0.245269</td>\n",
       "      <td>-0.419525</td>\n",
       "      <td>-0.498817</td>\n",
       "      <td>0.007481</td>\n",
       "      <td>-1.812009</td>\n",
       "      <td>-0.141638</td>\n",
       "      <td>0.181565</td>\n",
       "      <td>-1.504809</td>\n",
       "      <td>1.465265</td>\n",
       "      <td>1.081107</td>\n",
       "      <td>-0.184886</td>\n",
       "      <td>0.787207</td>\n",
       "      <td>0.695035</td>\n",
       "    </tr>\n",
       "    <tr>\n",
       "      <td>264</td>\n",
       "      <td>-0.380480</td>\n",
       "      <td>-1.112271</td>\n",
       "      <td>-0.324682</td>\n",
       "      <td>0.365056</td>\n",
       "      <td>-0.434433</td>\n",
       "      <td>-0.984078</td>\n",
       "      <td>0.126425</td>\n",
       "      <td>0.796853</td>\n",
       "      <td>1.625290</td>\n",
       "      <td>0.124053</td>\n",
       "      <td>1.629891</td>\n",
       "      <td>1.784970</td>\n",
       "      <td>-1.432974</td>\n",
       "    </tr>\n",
       "    <tr>\n",
       "      <td>152</td>\n",
       "      <td>0.175503</td>\n",
       "      <td>-0.350951</td>\n",
       "      <td>-0.263400</td>\n",
       "      <td>0.493371</td>\n",
       "      <td>-0.424931</td>\n",
       "      <td>0.210870</td>\n",
       "      <td>-1.258922</td>\n",
       "      <td>-0.036292</td>\n",
       "      <td>0.001800</td>\n",
       "      <td>0.505166</td>\n",
       "      <td>-0.831444</td>\n",
       "      <td>-1.529178</td>\n",
       "      <td>0.695035</td>\n",
       "    </tr>\n",
       "  </tbody>\n",
       "</table>\n",
       "</div>"
      ],
      "text/plain": [
       "         Col1      Col2      Col3      Col4      Col5      Col6      Col7  \\\n",
       "253  0.199735  0.403542  0.699553 -0.053503  0.156148 -0.429733  0.472321   \n",
       "63   1.067875  0.407228  0.614889  1.054531 -0.203993  0.050647 -1.492875   \n",
       "172 -0.245269 -0.419525 -0.498817  0.007481 -1.812009 -0.141638  0.181565   \n",
       "264 -0.380480 -1.112271 -0.324682  0.365056 -0.434433 -0.984078  0.126425   \n",
       "152  0.175503 -0.350951 -0.263400  0.493371 -0.424931  0.210870 -1.258922   \n",
       "\n",
       "         Col8      Col9     Col10     Col11     Col12  Class_att  \n",
       "253  0.038380 -1.520626 -1.058514  0.436963  0.911007  -1.432974  \n",
       "63   0.379171  0.626452 -0.250462 -0.749553 -0.862407   0.695035  \n",
       "172 -1.504809  1.465265  1.081107 -0.184886  0.787207   0.695035  \n",
       "264  0.796853  1.625290  0.124053  1.629891  1.784970  -1.432974  \n",
       "152 -0.036292  0.001800  0.505166 -0.831444 -1.529178   0.695035  "
      ]
     },
     "execution_count": 129,
     "metadata": {},
     "output_type": "execute_result"
    }
   ],
   "source": [
    "# Calculate the Z-scores of each column in the training set and\n",
    "# write those Z-scores into a new pandas DataFrame named train_df_norm.\n",
    "df_train_mean = df_train.mean()\n",
    "df_train_std = df_train.std()\n",
    "df_train_norm = (df_train - df_train_mean)/df_train_std\n",
    "\n",
    "# Examine some of the values of the normalized training set. Notice that most \n",
    "# Z-scores fall between -2 and +2.\n",
    "df_train_norm.head()"
   ]
  },
  {
   "cell_type": "code",
   "execution_count": 130,
   "metadata": {},
   "outputs": [],
   "source": [
    "# Calculate the Z-scores of each column in the test set and\n",
    "# write those Z-scores into a new pandas DataFrame named test_df_norm.\n",
    "df_test_mean = df_test.mean()\n",
    "df_test_std  = df_test.std()\n",
    "df_test_norm = (df_test - df_test_mean)/df_test_std"
   ]
  },
  {
   "cell_type": "code",
   "execution_count": 131,
   "metadata": {},
   "outputs": [
    {
     "name": "stdout",
     "output_type": "stream",
     "text": [
      "AxesSubplot(0.125,0.125;0.775x0.755)\n",
      "AxesSubplot(0.125,0.125;0.775x0.755)\n",
      "AxesSubplot(0.125,0.125;0.775x0.755)\n",
      "AxesSubplot(0.125,0.125;0.775x0.755)\n",
      "AxesSubplot(0.125,0.125;0.775x0.755)\n",
      "AxesSubplot(0.125,0.125;0.775x0.755)\n",
      "AxesSubplot(0.125,0.125;0.775x0.755)\n",
      "AxesSubplot(0.125,0.125;0.775x0.755)\n",
      "AxesSubplot(0.125,0.125;0.775x0.755)\n",
      "AxesSubplot(0.125,0.125;0.775x0.755)\n",
      "AxesSubplot(0.125,0.125;0.775x0.755)\n",
      "AxesSubplot(0.125,0.125;0.775x0.755)\n"
     ]
    },
    {
     "data": {
      "image/png": "[encoded data removed]",
      "text/plain": [
       "<Figure size 432x288 with 1 Axes>"
      ]
     },
     "metadata": {
      "needs_background": "light"
     },
     "output_type": "display_data"
    },
    {
     "data": {
      "image/png": "[encoded data removed]",
      "text/plain": [
       "<Figure size 432x288 with 1 Axes>"
      ]
     },
     "metadata": {
      "needs_background": "light"
     },
     "output_type": "display_data"
    },
    {
     "data": {
      "image/png": "[encoded data removed]",
      "text/plain": [
       "<Figure size 432x288 with 1 Axes>"
      ]
     },
     "metadata": {
      "needs_background": "light"
     },
     "output_type": "display_data"
    },
    {
     "data": {
      "image/png": "[encoded data removed]",
      "text/plain": [
       "<Figure size 432x288 with 1 Axes>"
      ]
     },
     "metadata": {
      "needs_background": "light"
     },
     "output_type": "display_data"
    },
    {
     "data": {
      "image/png": "[encoded data removed]",
      "text/plain": [
       "<Figure size 432x288 with 1 Axes>"
      ]
     },
     "metadata": {
      "needs_background": "light"
     },
     "output_type": "display_data"
    },
    {
     "data": {
      "image/png": "[encoded data removed]",
      "text/plain": [
       "<Figure size 432x288 with 1 Axes>"
      ]
     },
     "metadata": {
      "needs_background": "light"
     },
     "output_type": "display_data"
    },
    {
     "data": {
      "image/png": "[encoded data removed]",
      "text/plain": [
       "<Figure size 432x288 with 1 Axes>"
      ]
     },
     "metadata": {
      "needs_background": "light"
     },
     "output_type": "display_data"
    },
    {
     "data": {
      "image/png": "[encoded data removed]",
      "text/plain": [
       "<Figure size 432x288 with 1 Axes>"
      ]
     },
     "metadata": {
      "needs_background": "light"
     },
     "output_type": "display_data"
    },
    {
     "data": {
      "image/png": "[encoded data removed]",
      "text/plain": [
       "<Figure size 432x288 with 1 Axes>"
      ]
     },
     "metadata": {
      "needs_background": "light"
     },
     "output_type": "display_data"
    },
    {
     "data": {
      "image/png": "[encoded data removed]",
      "text/plain": [
       "<Figure size 432x288 with 1 Axes>"
      ]
     },
     "metadata": {
      "needs_background": "light"
     },
     "output_type": "display_data"
    },
    {
     "data": {
      "image/png": "[encoded data removed]",
      "text/plain": [
       "<Figure size 432x288 with 1 Axes>"
      ]
     },
     "metadata": {
      "needs_background": "light"
     },
     "output_type": "display_data"
    },
    {
     "data": {
      "image/png": "[encoded data removed]",
      "text/plain": [
       "<Figure size 432x288 with 1 Axes>"
      ]
     },
     "metadata": {
      "needs_background": "light"
     },
     "output_type": "display_data"
    }
   ],
   "source": [
    "# Feature Selection\n",
    "print(df.plot(x='Col1', y='Class_att', style='o'))\n",
    "print(df.plot(x='Col2', y='Class_att', style='o'))\n",
    "print(df.plot(x='Col3', y='Class_att', style='o'))\n",
    "print(df.plot(x='Col4', y='Class_att', style='o'))\n",
    "print(df.plot(x='Col5', y='Class_att', style='o'))\n",
    "print(df.plot(x='Col6', y='Class_att', style='o'))\n",
    "print(df.plot(x='Col7', y='Class_att', style='o'))\n",
    "print(df.plot(x='Col8', y='Class_att', style='o'))\n",
    "print(df.plot(x='Col9', y='Class_att', style='o'))\n",
    "print(df.plot(x='Col10', y='Class_att', style='o'))\n",
    "print(df.plot(x='Col11', y='Class_att', style='o'))\n",
    "print(df.plot(x='Col12', y='Class_att', style='o'))"
   ]
  },
  {
   "cell_type": "code",
   "execution_count": 132,
   "metadata": {},
   "outputs": [],
   "source": [
    "feature_set = ['Col1', 'Col2', 'Col3', 'Col4', 'Col5', 'Col6']"
   ]
  },
  {
   "cell_type": "code",
   "execution_count": 133,
   "metadata": {},
   "outputs": [],
   "source": [
    "def tf_feature_columns(input_features):\n",
    "    feature_columns = []\n",
    "    for my_feature in input_features:\n",
    "        feature_columns.append(tf.feature_column.numeric_column(my_feature))\n",
    "    return feature_columns"
   ]
  },
  {
   "cell_type": "code",
   "execution_count": 134,
   "metadata": {},
   "outputs": [
    {
     "data": {
      "text/plain": [
       "<tf.Tensor: shape=(248, 6), dtype=float32, numpy=\n",
       "array([[ 63.792427 ,  21.345324 ,  66.       ,  42.4471   , 119.55039  ,\n",
       "         12.382604 ],\n",
       "       [ 77.690575 ,  21.380644 ,  64.42944  ,  56.309933 , 114.81875  ,\n",
       "         26.93184  ],\n",
       "       [ 56.668293 ,  13.458203 ,  43.76971  ,  43.21009  ,  93.69221  ,\n",
       "         21.108122 ],\n",
       "       ...,\n",
       "       [ 75.29848  ,  16.671484 ,  61.296204 ,  58.626995 , 118.883385 ,\n",
       "         31.575823 ],\n",
       "       [ 42.517273 ,  14.375671 ,  25.323565 ,  28.141602 , 128.90569  ,\n",
       "          0.7570201],\n",
       "       [ 65.6118   ,  23.137918 ,  62.58218  ,  42.473885 , 124.128    ,\n",
       "         -4.083298 ]], dtype=float32)>"
      ]
     },
     "execution_count": 134,
     "metadata": {},
     "output_type": "execute_result"
    }
   ],
   "source": [
    "tf_feature_columns = tf_feature_columns(feature_set)\n",
    "feature_layer = layers.DenseFeatures(tf_feature_columns)\n",
    "feature_layer(dict(df_train))"
   ]
  },
  {
   "cell_type": "code",
   "execution_count": 135,
   "metadata": {},
   "outputs": [
    {
     "name": "stdout",
     "output_type": "stream",
     "text": [
      "Defined the create_model and train_model functions.\n"
     ]
    }
   ],
   "source": [
    "#@title Define the functions that create and train a model.\n",
    "def create_model(my_learning_rate, tf_feature_columns, my_metrics):\n",
    "  \"\"\"Create and compile a simple classification model.\"\"\"\n",
    "  # Most simple tf.keras models are sequential.\n",
    "  model = tf.keras.models.Sequential()\n",
    "\n",
    "  # Add the feature layer (the list of features and how they are represented)\n",
    "  # to the model.\n",
    "  model.add(tf_feature_columns)\n",
    "\n",
    "  # Funnel the regression value through a sigmoid function.\n",
    "  model.add(tf.keras.layers.Dense(units=1, input_shape=(1,),\n",
    "                                  activation=tf.sigmoid),)\n",
    "\n",
    "  # Call the compile method to construct the layers into a model that\n",
    "  # TensorFlow can execute.  Notice that we're using a different loss\n",
    "  # function for classification than for regression.    \n",
    "  model.compile(optimizer=tf.keras.optimizers.RMSprop(lr=my_learning_rate),                                                   \n",
    "                loss=tf.keras.losses.BinaryCrossentropy(),\n",
    "                metrics=my_metrics)\n",
    "\n",
    "  return model        \n",
    "\n",
    "\n",
    "def train_model(model, dataset, epochs, label_name,\n",
    "                batch_size=None, shuffle=True):\n",
    "  \"\"\"Feed a dataset into the model in order to train it.\"\"\"\n",
    "\n",
    "  # The x parameter of tf.keras.Model.fit can be a list of arrays, where\n",
    "  # each array contains the data for one feature.  Here, we're passing\n",
    "  # every column in the dataset. Note that the feature_layer will filter\n",
    "  # away most of those columns, leaving only the desired columns and their\n",
    "  # representations as features.\n",
    "  features = {name:np.array(value) for name, value in dataset.items()}\n",
    "  label = np.array(features.pop(label_name)) \n",
    "  history = model.fit(x=features, y=label, batch_size=batch_size,\n",
    "                      epochs=epochs, shuffle=shuffle)\n",
    "  \n",
    "  # The list of epochs is stored separately from the rest of history.\n",
    "  epochs = history.epoch\n",
    "\n",
    "  # Isolate the classification metric for each epoch.\n",
    "  hist = pd.DataFrame(history.history)\n",
    "\n",
    "  return epochs, hist  \n",
    "\n",
    "print(\"Defined the create_model and train_model functions.\")   "
   ]
  },
  {
   "cell_type": "code",
   "execution_count": 136,
   "metadata": {},
   "outputs": [
    {
     "name": "stdout",
     "output_type": "stream",
     "text": [
      "Defined the plot_curve function.\n"
     ]
    }
   ],
   "source": [
    "#@title Define the plotting function.\n",
    "def plot_curve(epochs, hist, list_of_metrics):\n",
    "  \"\"\"Plot a curve of one or more classification metrics vs. epoch.\"\"\"  \n",
    "  # list_of_metrics should be one of the names shown in:\n",
    "  # https://www.tensorflow.org/tutorials/structured_data/imbalanced_data#define_the_model_and_metrics  \n",
    "\n",
    "  plt.figure()\n",
    "  plt.xlabel(\"Epoch\")\n",
    "  plt.ylabel(\"Value\")\n",
    "\n",
    "  for m in list_of_metrics:\n",
    "    x = hist[m]\n",
    "    plt.plot(epochs[1:], x[1:], label=m)\n",
    "\n",
    "  plt.legend()\n",
    "\n",
    "print(\"Defined the plot_curve function.\")"
   ]
  },
  {
   "cell_type": "code",
   "execution_count": 137,
   "metadata": {},
   "outputs": [
    {
     "name": "stdout",
     "output_type": "stream",
     "text": [
      "Train on 248 samples\n",
      "Epoch 1/20\n",
      "248/248 [==============================] - 1s 3ms/sample - loss: 39.9490 - accuracy: 0.6734\n",
      "Epoch 2/20\n",
      "248/248 [==============================] - 0s 39us/sample - loss: 39.3881 - accuracy: 0.6734\n",
      "Epoch 3/20\n",
      "248/248 [==============================] - 0s 95us/sample - loss: 39.0097 - accuracy: 0.6734\n",
      "Epoch 4/20\n",
      "248/248 [==============================] - 0s 58us/sample - loss: 38.6616 - accuracy: 0.6734\n",
      "Epoch 5/20\n",
      "248/248 [==============================] - 0s 53us/sample - loss: 38.3268 - accuracy: 0.6734\n",
      "Epoch 6/20\n",
      "248/248 [==============================] - 0s 33us/sample - loss: 38.0263 - accuracy: 0.6734\n",
      "Epoch 7/20\n",
      "248/248 [==============================] - 0s 26us/sample - loss: 37.7364 - accuracy: 0.6734\n",
      "Epoch 8/20\n",
      "248/248 [==============================] - 0s 50us/sample - loss: 37.4346 - accuracy: 0.6734\n",
      "Epoch 9/20\n",
      "248/248 [==============================] - 0s 51us/sample - loss: 37.1513 - accuracy: 0.6734\n",
      "Epoch 10/20\n",
      "248/248 [==============================] - 0s 45us/sample - loss: 36.8777 - accuracy: 0.6734\n",
      "Epoch 11/20\n",
      "248/248 [==============================] - 0s 49us/sample - loss: 36.6087 - accuracy: 0.6734\n",
      "Epoch 12/20\n",
      "248/248 [==============================] - 0s 34us/sample - loss: 36.3326 - accuracy: 0.6734\n",
      "Epoch 13/20\n",
      "248/248 [==============================] - 0s 45us/sample - loss: 36.0501 - accuracy: 0.6734\n",
      "Epoch 14/20\n",
      "248/248 [==============================] - 0s 53us/sample - loss: 35.7904 - accuracy: 0.6734\n",
      "Epoch 15/20\n",
      "248/248 [==============================] - 0s 57us/sample - loss: 35.5252 - accuracy: 0.6734\n",
      "Epoch 16/20\n",
      "248/248 [==============================] - 0s 51us/sample - loss: 35.2402 - accuracy: 0.6734\n",
      "Epoch 17/20\n",
      "248/248 [==============================] - 0s 49us/sample - loss: 34.9665 - accuracy: 0.6734\n",
      "Epoch 18/20\n",
      "248/248 [==============================] - 0s 58us/sample - loss: 34.6982 - accuracy: 0.6734\n",
      "Epoch 19/20\n",
      "248/248 [==============================] - 0s 35us/sample - loss: 34.4350 - accuracy: 0.6734\n",
      "Epoch 20/20\n",
      "248/248 [==============================] - 0s 56us/sample - loss: 34.1626 - accuracy: 0.6734\n"
     ]
    },
    {
     "data": {
      "image/png": "[encoded data removed]",
      "text/plain": [
       "<Figure size 432x288 with 1 Axes>"
      ]
     },
     "metadata": {
      "needs_background": "light"
     },
     "output_type": "display_data"
    }
   ],
   "source": [
    "# The following variables are the hyperparameters.\n",
    "learning_rate = 0.001\n",
    "epochs = 20\n",
    "batch_size = 100\n",
    "label_name = \"Class_att\"\n",
    "classification_threshold = 0.35\n",
    "\n",
    "# Establish the metrics the model will measure.\n",
    "METRICS = [\n",
    "           tf.keras.metrics.BinaryAccuracy(name='accuracy', \n",
    "                                           threshold=classification_threshold),\n",
    "          ]\n",
    "\n",
    "# Establish the model's topography.\n",
    "my_model = create_model(learning_rate, feature_layer, METRICS)\n",
    "\n",
    "# Train the model on the training set.\n",
    "epochs, hist = train_model(my_model, df_train, epochs, \n",
    "                           label_name, batch_size)\n",
    "\n",
    "# Plot a graph of the metric(s) vs. epochs.\n",
    "list_of_metrics_to_plot = ['accuracy'] \n",
    "\n",
    "plot_curve(epochs, hist, list_of_metrics_to_plot)"
   ]
  },
  {
   "cell_type": "code",
   "execution_count": 138,
   "metadata": {},
   "outputs": [
    {
     "name": "stdout",
     "output_type": "stream",
     "text": [
      "\r",
      "62/62 [==============================] - 0s 2ms/sample - loss: 31.3913 - accuracy: 0.6935\n"
     ]
    },
    {
     "data": {
      "text/plain": [
       "[31.391305923461914, 0.6935484]"
      ]
     },
     "execution_count": 138,
     "metadata": {},
     "output_type": "execute_result"
    }
   ],
   "source": [
    "# Evaluate the model against the test set\n",
    "features = {name:np.array(value) for name, value in df_test.items()}\n",
    "label = np.array(features.pop(label_name))\n",
    "\n",
    "my_model.evaluate(x = features, y = label, batch_size=batch_size)"
   ]
  },
  {
   "cell_type": "code",
   "execution_count": 139,
   "metadata": {},
   "outputs": [
    {
     "name": "stdout",
     "output_type": "stream",
     "text": [
      "Train on 248 samples\n",
      "Epoch 1/20\n",
      "248/248 [==============================] - 1s 4ms/sample - loss: 9.4653 - accuracy: 0.6734 - precision: 0.6734 - recall: 1.0000\n",
      "Epoch 2/20\n",
      "248/248 [==============================] - 0s 59us/sample - loss: 8.8971 - accuracy: 0.6734 - precision: 0.6734 - recall: 1.0000\n",
      "Epoch 3/20\n",
      "248/248 [==============================] - 0s 66us/sample - loss: 8.5035 - accuracy: 0.6694 - precision: 0.6721 - recall: 0.9940\n",
      "Epoch 4/20\n",
      "248/248 [==============================] - 0s 53us/sample - loss: 8.1791 - accuracy: 0.6653 - precision: 0.6707 - recall: 0.9880\n",
      "Epoch 5/20\n",
      "248/248 [==============================] - 0s 53us/sample - loss: 7.8774 - accuracy: 0.6573 - precision: 0.6680 - recall: 0.9760\n",
      "Epoch 6/20\n",
      "248/248 [==============================] - 0s 57us/sample - loss: 7.6000 - accuracy: 0.6613 - precision: 0.6708 - recall: 0.9760\n",
      "Epoch 7/20\n",
      "248/248 [==============================] - 0s 43us/sample - loss: 7.3351 - accuracy: 0.6653 - precision: 0.6736 - recall: 0.9760\n",
      "Epoch 8/20\n",
      "248/248 [==============================] - 0s 45us/sample - loss: 7.0799 - accuracy: 0.6694 - precision: 0.6763 - recall: 0.9760\n",
      "Epoch 9/20\n",
      "248/248 [==============================] - 0s 55us/sample - loss: 6.8441 - accuracy: 0.6694 - precision: 0.6778 - recall: 0.9701\n",
      "Epoch 10/20\n",
      "248/248 [==============================] - 0s 55us/sample - loss: 6.6284 - accuracy: 0.6815 - precision: 0.6864 - recall: 0.9701\n",
      "Epoch 11/20\n",
      "248/248 [==============================] - 0s 54us/sample - loss: 6.4152 - accuracy: 0.6734 - precision: 0.6853 - recall: 0.9521\n",
      "Epoch 12/20\n",
      "248/248 [==============================] - 0s 50us/sample - loss: 6.2269 - accuracy: 0.6774 - precision: 0.6883 - recall: 0.9521\n",
      "Epoch 13/20\n",
      "248/248 [==============================] - 0s 42us/sample - loss: 6.0345 - accuracy: 0.6653 - precision: 0.6842 - recall: 0.9341\n",
      "Epoch 14/20\n",
      "248/248 [==============================] - 0s 57us/sample - loss: 5.8518 - accuracy: 0.6613 - precision: 0.6828 - recall: 0.9281\n",
      "Epoch 15/20\n",
      "248/248 [==============================] - 0s 47us/sample - loss: 5.6714 - accuracy: 0.6613 - precision: 0.6828 - recall: 0.9281\n",
      "Epoch 16/20\n",
      "248/248 [==============================] - 0s 59us/sample - loss: 5.4906 - accuracy: 0.6653 - precision: 0.6858 - recall: 0.9281\n",
      "Epoch 17/20\n",
      "248/248 [==============================] - 0s 53us/sample - loss: 5.2956 - accuracy: 0.6613 - precision: 0.6844 - recall: 0.9222\n",
      "Epoch 18/20\n",
      "248/248 [==============================] - 0s 38us/sample - loss: 5.1154 - accuracy: 0.6613 - precision: 0.6844 - recall: 0.9222\n",
      "Epoch 19/20\n",
      "248/248 [==============================] - 0s 56us/sample - loss: 4.9403 - accuracy: 0.6613 - precision: 0.6844 - recall: 0.9222\n",
      "Epoch 20/20\n",
      "248/248 [==============================] - 0s 46us/sample - loss: 4.7669 - accuracy: 0.6532 - precision: 0.6816 - recall: 0.9102\n"
     ]
    },
    {
     "data": {
      "image/png": "[encoded data removed]",
      "text/plain": [
       "<Figure size 432x288 with 1 Axes>"
      ]
     },
     "metadata": {
      "needs_background": "light"
     },
     "output_type": "display_data"
    }
   ],
   "source": [
    "# Add precision and recall as metrics\n",
    "#@title Double-click to view the solution for Task 3.\n",
    "\n",
    "# The following variables are the hyperparameters.\n",
    "learning_rate = 0.001\n",
    "epochs = 20\n",
    "batch_size = 100\n",
    "classification_threshold = 0.35\n",
    "label_name = \"Class_att\"\n",
    "\n",
    "# Here is the updated definition of METRICS:\n",
    "METRICS = [\n",
    "      tf.keras.metrics.BinaryAccuracy(name='accuracy', \n",
    "                                      threshold=classification_threshold),\n",
    "      tf.keras.metrics.Precision(thresholds=classification_threshold,\n",
    "                                 name='precision' \n",
    "                                 ),\n",
    "      tf.keras.metrics.Recall(thresholds=classification_threshold,\n",
    "                              name=\"recall\"),\n",
    "]\n",
    "\n",
    "# Establish the model's topography.\n",
    "my_model = create_model(learning_rate, feature_layer, METRICS)\n",
    "\n",
    "# Train the model on the training set.\n",
    "epochs, hist = train_model(my_model, df_train, epochs, \n",
    "                           label_name, batch_size)\n",
    "\n",
    "# Plot metrics vs. epochs\n",
    "list_of_metrics_to_plot = ['accuracy', \"precision\", \"recall\"] \n",
    "plot_curve(epochs, hist, list_of_metrics_to_plot)\n",
    "\n",
    "\n",
    "# The new graphs suggest that precision and recall are \n",
    "# somewhat in conflict. That is, improvements to one of\n",
    "# those metrics may hurt the other metric."
   ]
  },
  {
   "cell_type": "code",
   "execution_count": 140,
   "metadata": {},
   "outputs": [
    {
     "name": "stdout",
     "output_type": "stream",
     "text": [
      "Train on 248 samples\n",
      "Epoch 1/20\n",
      "248/248 [==============================] - 1s 5ms/sample - loss: 41.7678 - accuracy: 0.6734 - precision: 0.6734 - recall: 1.0000\n",
      "Epoch 2/20\n",
      "248/248 [==============================] - 0s 45us/sample - loss: 41.1963 - accuracy: 0.6734 - precision: 0.6734 - recall: 1.0000\n",
      "Epoch 3/20\n",
      "248/248 [==============================] - 0s 44us/sample - loss: 40.7826 - accuracy: 0.6734 - precision: 0.6734 - recall: 1.0000\n",
      "Epoch 4/20\n",
      "248/248 [==============================] - 0s 50us/sample - loss: 40.4433 - accuracy: 0.6734 - precision: 0.6734 - recall: 1.0000\n",
      "Epoch 5/20\n",
      "248/248 [==============================] - 0s 47us/sample - loss: 40.1219 - accuracy: 0.6734 - precision: 0.6734 - recall: 1.0000\n",
      "Epoch 6/20\n",
      "248/248 [==============================] - 0s 57us/sample - loss: 39.8242 - accuracy: 0.6734 - precision: 0.6734 - recall: 1.0000\n",
      "Epoch 7/20\n",
      "248/248 [==============================] - 0s 38us/sample - loss: 39.5282 - accuracy: 0.6734 - precision: 0.6734 - recall: 1.0000\n",
      "Epoch 8/20\n",
      "248/248 [==============================] - 0s 56us/sample - loss: 39.2434 - accuracy: 0.6734 - precision: 0.6734 - recall: 1.0000\n",
      "Epoch 9/20\n",
      "248/248 [==============================] - 0s 53us/sample - loss: 38.9697 - accuracy: 0.6734 - precision: 0.6734 - recall: 1.0000\n",
      "Epoch 10/20\n",
      "248/248 [==============================] - 0s 71us/sample - loss: 38.6824 - accuracy: 0.6734 - precision: 0.6734 - recall: 1.0000\n",
      "Epoch 11/20\n",
      "248/248 [==============================] - 0s 60us/sample - loss: 38.4092 - accuracy: 0.6734 - precision: 0.6734 - recall: 1.0000\n",
      "Epoch 12/20\n",
      "248/248 [==============================] - 0s 47us/sample - loss: 38.1420 - accuracy: 0.6734 - precision: 0.6734 - recall: 1.0000\n",
      "Epoch 13/20\n",
      "248/248 [==============================] - 0s 53us/sample - loss: 37.8636 - accuracy: 0.6734 - precision: 0.6734 - recall: 1.0000\n",
      "Epoch 14/20\n",
      "248/248 [==============================] - 0s 51us/sample - loss: 37.5752 - accuracy: 0.6734 - precision: 0.6734 - recall: 1.0000\n",
      "Epoch 15/20\n",
      "248/248 [==============================] - 0s 51us/sample - loss: 37.3073 - accuracy: 0.6734 - precision: 0.6734 - recall: 1.0000\n",
      "Epoch 16/20\n",
      "248/248 [==============================] - 0s 54us/sample - loss: 37.0366 - accuracy: 0.6734 - precision: 0.6734 - recall: 1.0000\n",
      "Epoch 17/20\n",
      "248/248 [==============================] - 0s 51us/sample - loss: 36.7613 - accuracy: 0.6734 - precision: 0.6734 - recall: 1.0000\n",
      "Epoch 18/20\n",
      "248/248 [==============================] - 0s 47us/sample - loss: 36.4874 - accuracy: 0.6734 - precision: 0.6734 - recall: 1.0000\n",
      "Epoch 19/20\n",
      "248/248 [==============================] - 0s 49us/sample - loss: 36.2244 - accuracy: 0.6734 - precision: 0.6734 - recall: 1.0000\n",
      "Epoch 20/20\n",
      "248/248 [==============================] - 0s 70us/sample - loss: 35.9617 - accuracy: 0.6734 - precision: 0.6734 - recall: 1.0000\n"
     ]
    },
    {
     "data": {
      "image/png": "[encoded data removed]",
      "text/plain": [
       "<Figure size 432x288 with 1 Axes>"
      ]
     },
     "metadata": {
      "needs_background": "light"
     },
     "output_type": "display_data"
    }
   ],
   "source": [
    "# Experiment with the classification threshold (if time permits)\n",
    "\n",
    "# The following variables are the hyperparameters.\n",
    "learning_rate = 0.001\n",
    "epochs = 20\n",
    "batch_size = 100\n",
    "classification_threshold = 0.52\n",
    "label_name = \"Class_att\"\n",
    "\n",
    "# Here is the updated definition of METRICS:\n",
    "METRICS = [\n",
    "      tf.keras.metrics.BinaryAccuracy(name='accuracy', \n",
    "                                      threshold=classification_threshold),\n",
    "      tf.keras.metrics.Precision(thresholds=classification_threshold,\n",
    "                                 name='precision' \n",
    "                                 ),\n",
    "      tf.keras.metrics.Recall(thresholds=classification_threshold,\n",
    "                              name=\"recall\"),\n",
    "]\n",
    "\n",
    "# Establish the model's topography.\n",
    "my_model = create_model(learning_rate, feature_layer, METRICS)\n",
    "\n",
    "# Train the model on the training set.\n",
    "epochs, hist = train_model(my_model, df_train, epochs, \n",
    "                           label_name, batch_size)\n",
    "\n",
    "# Plot metrics vs. epochs\n",
    "list_of_metrics_to_plot = ['accuracy', \"precision\", \"recall\"] \n",
    "plot_curve(epochs, hist, list_of_metrics_to_plot)\n",
    "\n",
    "# A `classification_threshold` of slightly over 0.5\n",
    "# appears to produce the highest accuracy (about 83%).\n",
    "# Raising the `classification_threshold` to 0.9 drops \n",
    "# accuracy by about 5%.  Lowering the \n",
    "# `classification_threshold` to 0.3 drops accuracy by \n",
    "# about 3%. "
   ]
  },
  {
   "cell_type": "code",
   "execution_count": 141,
   "metadata": {},
   "outputs": [
    {
     "name": "stdout",
     "output_type": "stream",
     "text": [
      "Train on 248 samples\n",
      "Epoch 1/20\n",
      "248/248 [==============================] - 1s 4ms/sample - loss: 160.8322 - auc: 0.5000\n",
      "Epoch 2/20\n",
      "248/248 [==============================] - 0s 54us/sample - loss: 159.3974 - auc: 0.5000\n",
      "Epoch 3/20\n",
      "248/248 [==============================] - 0s 44us/sample - loss: 158.3777 - auc: 0.5000\n",
      "Epoch 4/20\n",
      "248/248 [==============================] - 0s 65us/sample - loss: 157.4850 - auc: 0.5000\n",
      "Epoch 5/20\n",
      "248/248 [==============================] - 0s 67us/sample - loss: 156.6797 - auc: 0.5000\n",
      "Epoch 6/20\n",
      "248/248 [==============================] - 0s 52us/sample - loss: 155.9146 - auc: 0.5000\n",
      "Epoch 7/20\n",
      "248/248 [==============================] - 0s 65us/sample - loss: 155.1753 - auc: 0.5000\n",
      "Epoch 8/20\n",
      "248/248 [==============================] - 0s 55us/sample - loss: 154.4671 - auc: 0.5000\n",
      "Epoch 9/20\n",
      "248/248 [==============================] - 0s 61us/sample - loss: 153.7674 - auc: 0.5000\n",
      "Epoch 10/20\n",
      "248/248 [==============================] - 0s 64us/sample - loss: 153.0710 - auc: 0.5000\n",
      "Epoch 11/20\n",
      "248/248 [==============================] - 0s 48us/sample - loss: 152.3617 - auc: 0.5000\n",
      "Epoch 12/20\n",
      "248/248 [==============================] - 0s 73us/sample - loss: 151.6699 - auc: 0.5000\n",
      "Epoch 13/20\n",
      "248/248 [==============================] - 0s 55us/sample - loss: 150.9773 - auc: 0.5000\n",
      "Epoch 14/20\n",
      "248/248 [==============================] - 0s 53us/sample - loss: 150.3020 - auc: 0.5000\n",
      "Epoch 15/20\n",
      "248/248 [==============================] - 0s 54us/sample - loss: 149.6268 - auc: 0.5000\n",
      "Epoch 16/20\n",
      "248/248 [==============================] - 0s 53us/sample - loss: 148.9377 - auc: 0.5000\n",
      "Epoch 17/20\n",
      "248/248 [==============================] - 0s 58us/sample - loss: 148.2442 - auc: 0.5000\n",
      "Epoch 18/20\n",
      "248/248 [==============================] - 0s 58us/sample - loss: 147.5635 - auc: 0.5000\n",
      "Epoch 19/20\n",
      "248/248 [==============================] - 0s 42us/sample - loss: 146.8774 - auc: 0.5000\n",
      "Epoch 20/20\n",
      "248/248 [==============================] - 0s 55us/sample - loss: 146.1939 - auc: 0.5000\n"
     ]
    },
    {
     "data": {
      "image/png": "[encoded data removed]",
      "text/plain": [
       "<Figure size 432x288 with 1 Axes>"
      ]
     },
     "metadata": {
      "needs_background": "light"
     },
     "output_type": "display_data"
    }
   ],
   "source": [
    "# Summarize model performance (if time permits)\n",
    "\n",
    "# The following variables are the hyperparameters.\n",
    "learning_rate = 0.001\n",
    "epochs = 20\n",
    "batch_size = 100\n",
    "label_name = \"Class_att\"\n",
    "\n",
    "# AUC is a reasonable \"summary\" metric for \n",
    "# classification models.\n",
    "# Here is the updated definition of METRICS to \n",
    "# measure AUC:\n",
    "METRICS = [\n",
    "      tf.keras.metrics.AUC(num_thresholds=100, name='auc'),\n",
    "]\n",
    "\n",
    "# Establish the model's topography.\n",
    "my_model = create_model(learning_rate, feature_layer, METRICS)\n",
    "\n",
    "# Train the model on the training set.\n",
    "epochs, hist = train_model(my_model, df_train, epochs, \n",
    "                           label_name, batch_size)\n",
    "\n",
    "# Plot metrics vs. epochs\n",
    "list_of_metrics_to_plot = ['auc'] \n",
    "plot_curve(epochs, hist, list_of_metrics_to_plot)"
   ]
  },
  {
   "cell_type": "code",
   "execution_count": null,
   "metadata": {},
   "outputs": [],
   "source": []
  }
 ],
 "metadata": {
  "kernelspec": {
   "display_name": "Python 3",
   "language": "python",
   "name": "python3"
  },
  "language_info": {
   "codemirror_mode": {
    "name": "ipython",
    "version": 3
   },
   "file_extension": ".py",
   "mimetype": "text/x-python",
   "name": "python",
   "nbconvert_exporter": "python",
   "pygments_lexer": "ipython3",
   "version": "3.7.4"
  }
 },
 "nbformat": 4,
 "nbformat_minor": 2
}
