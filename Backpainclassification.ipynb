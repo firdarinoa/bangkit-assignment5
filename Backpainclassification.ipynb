{
  "nbformat": 4,
  "nbformat_minor": 0,
  "metadata": {
    "colab": {
      "name": "Untitled3.ipynb",
      "provenance": [],
      "authorship_tag": "ABX9TyMrS/uh2qXvBrHky/itnota",
      "include_colab_link": true
    },
    "kernelspec": {
      "name": "python3",
      "display_name": "Python 3"
    }
  },
  "cells": [
    {
      "cell_type": "markdown",
      "metadata": {
        "id": "view-in-github",
        "colab_type": "text"
      },
      "source": [
        "<a href=\"https://colab.research.google.com/github/firdarinoa/bangkit-assignment5/blob/master/Backpainclassification.ipynb\" target=\"_parent\"><img src=\"https://colab.research.google.com/assets/colab-badge.svg\" alt=\"Open In Colab\"/></a>"
      ]
    },
    {
      "cell_type": "markdown",
      "metadata": {
        "id": "NkOKalFmztWg",
        "colab_type": "text"
      },
      "source": [
        "##New Section\n"
      ]
    },
    {
      "cell_type": "markdown",
      "metadata": {
        "id": "g5cN-hAOz8kk",
        "colab_type": "text"
      },
      "source": [
        "# Import module\n"
      ]
    },
    {
      "cell_type": "code",
      "metadata": {
        "id": "6UDCY5H-z5G6",
        "colab_type": "code",
        "colab": {}
      },
      "source": [
        "#import module"
      ],
      "execution_count": 0,
      "outputs": []
    },
    {
      "cell_type": "markdown",
      "metadata": {
        "id": "em0wROr0z3v3",
        "colab_type": "text"
      },
      "source": [
        "# Data Analysis\n"
      ]
    },
    {
      "cell_type": "code",
      "metadata": {
        "id": "L53N5oWkzlLp",
        "colab_type": "code",
        "colab": {}
      },
      "source": [
        ""
      ],
      "execution_count": 0,
      "outputs": []
    },
    {
      "cell_type": "code",
      "metadata": {
        "id": "OMGyXlZ2z1f5",
        "colab_type": "code",
        "colab": {}
      },
      "source": [
        ""
      ],
      "execution_count": 0,
      "outputs": []
    },
    {
      "cell_type": "code",
      "metadata": {
        "id": "VDqrdc8o3EqA",
        "colab_type": "code",
        "colab": {}
      },
      "source": [
        ""
      ],
      "execution_count": 0,
      "outputs": []
    },
    {
      "cell_type": "markdown",
      "metadata": {
        "id": "v1hESp_l3Fcn",
        "colab_type": "text"
      },
      "source": [
        "# Data Cleansing\n"
      ]
    },
    {
      "cell_type": "code",
      "metadata": {
        "id": "x8SwDXqW3IGi",
        "colab_type": "code",
        "colab": {}
      },
      "source": [
        ""
      ],
      "execution_count": 0,
      "outputs": []
    },
    {
      "cell_type": "markdown",
      "metadata": {
        "id": "hkKXWFaZz1zk",
        "colab_type": "text"
      },
      "source": [
        "# Feature Engineering"
      ]
    },
    {
      "cell_type": "code",
      "metadata": {
        "id": "t9-OCki1z2WR",
        "colab_type": "code",
        "colab": {}
      },
      "source": [
        ""
      ],
      "execution_count": 0,
      "outputs": []
    },
    {
      "cell_type": "code",
      "metadata": {
        "id": "nHCEKvjwz2q2",
        "colab_type": "code",
        "colab": {}
      },
      "source": [
        ""
      ],
      "execution_count": 0,
      "outputs": []
    },
    {
      "cell_type": "markdown",
      "metadata": {
        "id": "7xKQaTTK0bkQ",
        "colab_type": "text"
      },
      "source": [
        "# Model Build & Training Function"
      ]
    },
    {
      "cell_type": "code",
      "metadata": {
        "id": "KgXivg_60hL5",
        "colab_type": "code",
        "colab": {}
      },
      "source": [
        ""
      ],
      "execution_count": 0,
      "outputs": []
    },
    {
      "cell_type": "markdown",
      "metadata": {
        "id": "NePZ5Stt0kjE",
        "colab_type": "text"
      },
      "source": [
        ""
      ]
    },
    {
      "cell_type": "code",
      "metadata": {
        "id": "1FWcqOMR0hYz",
        "colab_type": "code",
        "colab": {}
      },
      "source": [
        ""
      ],
      "execution_count": 0,
      "outputs": []
    },
    {
      "cell_type": "markdown",
      "metadata": {
        "id": "UjaMJ_kP0h8R",
        "colab_type": "text"
      },
      "source": [
        "# Plotting Function"
      ]
    },
    {
      "cell_type": "code",
      "metadata": {
        "id": "5yAW5mMA0lgG",
        "colab_type": "code",
        "colab": {}
      },
      "source": [
        "# plotting: loss function"
      ],
      "execution_count": 0,
      "outputs": []
    },
    {
      "cell_type": "markdown",
      "metadata": {
        "id": "Jmlrgit30l_s",
        "colab_type": "text"
      },
      "source": [
        "# Prediction"
      ]
    },
    {
      "cell_type": "code",
      "metadata": {
        "id": "6yJ3Y--F0os_",
        "colab_type": "code",
        "colab": {}
      },
      "source": [
        "#predict data"
      ],
      "execution_count": 0,
      "outputs": []
    },
    {
      "cell_type": "markdown",
      "metadata": {
        "id": "6otelj6w0pTz",
        "colab_type": "text"
      },
      "source": [
        "# Model Testing"
      ]
    },
    {
      "cell_type": "code",
      "metadata": {
        "id": "q5lOMqtw0r3R",
        "colab_type": "code",
        "colab": {}
      },
      "source": [
        "# test prediction"
      ],
      "execution_count": 0,
      "outputs": []
    },
    {
      "cell_type": "markdown",
      "metadata": {
        "id": "TLPWakOm0tZy",
        "colab_type": "text"
      },
      "source": [
        "# Result"
      ]
    },
    {
      "cell_type": "code",
      "metadata": {
        "id": "oxK9w74h0vRA",
        "colab_type": "code",
        "colab": {}
      },
      "source": [
        "# weight plot"
      ],
      "execution_count": 0,
      "outputs": []
    }
  ]
}