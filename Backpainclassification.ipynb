{
  "nbformat": 4,
  "nbformat_minor": 0,
  "metadata": {
    "colab": {
      "name": "Untitled3.ipynb",
      "provenance": [],
      "toc_visible": true,
      "include_colab_link": true
    },
    "kernelspec": {
      "name": "python3",
      "display_name": "Python 3"
    }
  },
  "cells": [
    {
      "cell_type": "markdown",
      "metadata": {
        "id": "view-in-github",
        "colab_type": "text"
      },
      "source": [
        "<a href=\"https://colab.research.google.com/github/firdarinoa/bangkit-assignment5/blob/master/Backpainclassification.ipynb\" target=\"_parent\"><img src=\"https://colab.research.google.com/assets/colab-badge.svg\" alt=\"Open In Colab\"/></a>"
      ]
    },
    {
      "cell_type": "code",
      "metadata": {
        "id": "Rjsh0oKpTs3v",
        "colab_type": "code",
        "colab": {}
      },
      "source": [
        "#@title Copyright 2020 Google LLC. Double-click here for license information.\n",
        "# Licensed under the Apache License, Version 2.0 (the \"License\");\n",
        "# you may not use this file except in compliance with the License.\n",
        "# You may obtain a copy of the License at\n",
        "#\n",
        "# https://www.apache.org/licenses/LICENSE-2.0\n",
        "#\n",
        "# Unless required by applicable law or agreed to in writing, software\n",
        "# distributed under the License is distributed on an \"AS IS\" BASIS,\n",
        "# WITHOUT WARRANTIES OR CONDITIONS OF ANY KIND, either express or implied.\n",
        "# See the License for the specific language governing permissions and\n",
        "# limitations under the License."
      ],
      "execution_count": 0,
      "outputs": []
    },
    {
      "cell_type": "markdown",
      "metadata": {
        "id": "_JifyMRDuD6k",
        "colab_type": "text"
      },
      "source": [
        "# Lower back Pain Classification.\n"
      ]
    },
    {
      "cell_type": "markdown",
      "metadata": {
        "id": "E0wRuc92l8ae",
        "colab_type": "text"
      },
      "source": [
        "Lower back pain can be caused by a variety of problems with any parts of the complex, interconnected network of spinal muscles, nerves, bones, discs or tendons in the lumbar spine. An irritation or problem with any of these structures can cause lower back pain and/or pain that radiates or is referred to other parts of the body.Â Â \n",
        "\n",
        "A serious condition of lower back pain could lead to back surgery. It can be done by a minimally invasive surgery, althoughÂ  thereâ€™s also risks that may come up. Dvorak et al studied 575 patients with symptomatic lumbar disc herniation (LDH) who underwent surgical procedures and found that 255 (70%) still complained of back pain, with 83 (23%) reporting constant heavy pain and 172 patients (45%) presenting with residual sciatica.Â \n",
        "\n",
        "According to a post from Washington Post (2007, link), more than 20 percent of patients who sought a second opinion at one of the nationâ€™s premier medical institutions had been misdiagnosed by their primary care providers. A second opinion is valuable any time a patient is told he or she has a serious condition, such as cancer, or needs surgery, but second opinion means more expense for the extra visit.\n",
        "\n",
        "Therefore there is a need of robust method to judge lower back condition to avoid human cognitive mistakes. In this project, we want to build ML model that could classify patient lower back pain condition into normal or abnormal condition, with 80% of second judgements from trusted orthopedist suit the ML result.\n"
      ]
    },
    {
      "cell_type": "markdown",
      "metadata": {
        "id": "g5cN-hAOz8kk",
        "colab_type": "text"
      },
      "source": [
        "# Import module\n"
      ]
    },
    {
      "cell_type": "markdown",
      "metadata": {
        "id": "GlRWpMstmCZY",
        "colab_type": "text"
      },
      "source": [
        "First things to do is to import all the libraries needed."
      ]
    },
    {
      "cell_type": "code",
      "metadata": {
        "id": "6UDCY5H-z5G6",
        "colab_type": "code",
        "colab": {
          "base_uri": "https://localhost:8080/",
          "height": 34
        },
        "outputId": "f1564715-8b48-469e-e7f3-e3621a321b82"
      },
      "source": [
        "import os\n",
        "import math\n",
        "import pandas as pd\n",
        "import numpy as np\n",
        "import tensorflow as tf\n",
        "import matplotlib.pyplot as plt\n",
        "from tensorflow.python.data import Dataset\n",
        "from tensorflow.keras import optimizers\n",
        "from tensorflow.keras import layers\n",
        "import seaborn as sns\n",
        "from sklearn import metrics\n",
        "from sklearn.model_selection import train_test_split\n",
        "from matplotlib import cm"
      ],
      "execution_count": 180,
      "outputs": [
        {
          "output_type": "stream",
          "text": [
            "ERROR! Session/line number was not unique in database. History logging moved to new session 61\n"
          ],
          "name": "stdout"
        }
      ]
    },
    {
      "cell_type": "markdown",
      "metadata": {
        "id": "TlPiqgGHuAcA",
        "colab_type": "text"
      },
      "source": [
        "# Import Dataset"
      ]
    },
    {
      "cell_type": "markdown",
      "metadata": {
        "id": "rUq-0P4QmHkk",
        "colab_type": "text"
      },
      "source": [
        "Then, import the datasets, and see what’s in it. By doing this, we can look some statistical values of our data set."
      ]
    },
    {
      "cell_type": "code",
      "metadata": {
        "id": "0Q9Xb-yH4RfH",
        "colab_type": "code",
        "outputId": "54313364-20cf-4ecb-efc3-9d3c542cf023",
        "colab": {
          "base_uri": "https://localhost:8080/",
          "height": 356
        }
      },
      "source": [
        "df = pd.read_csv('Dataset_spine.csv')\n",
        "df.head(10)"
      ],
      "execution_count": 181,
      "outputs": [
        {
          "output_type": "execute_result",
          "data": {
            "text/html": [
              "<div>\n",
              "<style scoped>\n",
              "    .dataframe tbody tr th:only-of-type {\n",
              "        vertical-align: middle;\n",
              "    }\n",
              "\n",
              "    .dataframe tbody tr th {\n",
              "        vertical-align: top;\n",
              "    }\n",
              "\n",
              "    .dataframe thead th {\n",
              "        text-align: right;\n",
              "    }\n",
              "</style>\n",
              "<table border=\"1\" class=\"dataframe\">\n",
              "  <thead>\n",
              "    <tr style=\"text-align: right;\">\n",
              "      <th></th>\n",
              "      <th>Col1</th>\n",
              "      <th>Col2</th>\n",
              "      <th>Col3</th>\n",
              "      <th>Col4</th>\n",
              "      <th>Col5</th>\n",
              "      <th>Col6</th>\n",
              "      <th>Col7</th>\n",
              "      <th>Col8</th>\n",
              "      <th>Col9</th>\n",
              "      <th>Col10</th>\n",
              "      <th>Col11</th>\n",
              "      <th>Col12</th>\n",
              "      <th>Class_att</th>\n",
              "      <th>Unnamed: 13</th>\n",
              "    </tr>\n",
              "  </thead>\n",
              "  <tbody>\n",
              "    <tr>\n",
              "      <th>0</th>\n",
              "      <td>63.027818</td>\n",
              "      <td>22.552586</td>\n",
              "      <td>39.609117</td>\n",
              "      <td>40.475232</td>\n",
              "      <td>98.672917</td>\n",
              "      <td>-0.254400</td>\n",
              "      <td>0.744503</td>\n",
              "      <td>12.5661</td>\n",
              "      <td>14.5386</td>\n",
              "      <td>15.30468</td>\n",
              "      <td>-28.658501</td>\n",
              "      <td>43.5123</td>\n",
              "      <td>Abnormal</td>\n",
              "      <td>NaN</td>\n",
              "    </tr>\n",
              "    <tr>\n",
              "      <th>1</th>\n",
              "      <td>39.056951</td>\n",
              "      <td>10.060991</td>\n",
              "      <td>25.015378</td>\n",
              "      <td>28.995960</td>\n",
              "      <td>114.405425</td>\n",
              "      <td>4.564259</td>\n",
              "      <td>0.415186</td>\n",
              "      <td>12.8874</td>\n",
              "      <td>17.5323</td>\n",
              "      <td>16.78486</td>\n",
              "      <td>-25.530607</td>\n",
              "      <td>16.1102</td>\n",
              "      <td>Abnormal</td>\n",
              "      <td>NaN</td>\n",
              "    </tr>\n",
              "    <tr>\n",
              "      <th>2</th>\n",
              "      <td>68.832021</td>\n",
              "      <td>22.218482</td>\n",
              "      <td>50.092194</td>\n",
              "      <td>46.613539</td>\n",
              "      <td>105.985135</td>\n",
              "      <td>-3.530317</td>\n",
              "      <td>0.474889</td>\n",
              "      <td>26.8343</td>\n",
              "      <td>17.4861</td>\n",
              "      <td>16.65897</td>\n",
              "      <td>-29.031888</td>\n",
              "      <td>19.2221</td>\n",
              "      <td>Abnormal</td>\n",
              "      <td>Prediction is done by using binary classificat...</td>\n",
              "    </tr>\n",
              "    <tr>\n",
              "      <th>3</th>\n",
              "      <td>69.297008</td>\n",
              "      <td>24.652878</td>\n",
              "      <td>44.311238</td>\n",
              "      <td>44.644130</td>\n",
              "      <td>101.868495</td>\n",
              "      <td>11.211523</td>\n",
              "      <td>0.369345</td>\n",
              "      <td>23.5603</td>\n",
              "      <td>12.7074</td>\n",
              "      <td>11.42447</td>\n",
              "      <td>-30.470246</td>\n",
              "      <td>18.8329</td>\n",
              "      <td>Abnormal</td>\n",
              "      <td>NaN</td>\n",
              "    </tr>\n",
              "    <tr>\n",
              "      <th>4</th>\n",
              "      <td>49.712859</td>\n",
              "      <td>9.652075</td>\n",
              "      <td>28.317406</td>\n",
              "      <td>40.060784</td>\n",
              "      <td>108.168725</td>\n",
              "      <td>7.918501</td>\n",
              "      <td>0.543360</td>\n",
              "      <td>35.4940</td>\n",
              "      <td>15.9546</td>\n",
              "      <td>8.87237</td>\n",
              "      <td>-16.378376</td>\n",
              "      <td>24.9171</td>\n",
              "      <td>Abnormal</td>\n",
              "      <td>NaN</td>\n",
              "    </tr>\n",
              "    <tr>\n",
              "      <th>5</th>\n",
              "      <td>40.250200</td>\n",
              "      <td>13.921907</td>\n",
              "      <td>25.124950</td>\n",
              "      <td>26.328293</td>\n",
              "      <td>130.327871</td>\n",
              "      <td>2.230652</td>\n",
              "      <td>0.789993</td>\n",
              "      <td>29.3230</td>\n",
              "      <td>12.0036</td>\n",
              "      <td>10.40462</td>\n",
              "      <td>-1.512209</td>\n",
              "      <td>9.6548</td>\n",
              "      <td>Abnormal</td>\n",
              "      <td>Attribute1  = pelvic_incidence  (numeric)</td>\n",
              "    </tr>\n",
              "    <tr>\n",
              "      <th>6</th>\n",
              "      <td>53.432928</td>\n",
              "      <td>15.864336</td>\n",
              "      <td>37.165934</td>\n",
              "      <td>37.568592</td>\n",
              "      <td>120.567523</td>\n",
              "      <td>5.988551</td>\n",
              "      <td>0.198920</td>\n",
              "      <td>13.8514</td>\n",
              "      <td>10.7146</td>\n",
              "      <td>11.37832</td>\n",
              "      <td>-20.510434</td>\n",
              "      <td>25.9477</td>\n",
              "      <td>Abnormal</td>\n",
              "      <td>Attribute2 = pelvic_tilt (numeric)</td>\n",
              "    </tr>\n",
              "    <tr>\n",
              "      <th>7</th>\n",
              "      <td>45.366754</td>\n",
              "      <td>10.755611</td>\n",
              "      <td>29.038349</td>\n",
              "      <td>34.611142</td>\n",
              "      <td>117.270068</td>\n",
              "      <td>-10.675871</td>\n",
              "      <td>0.131973</td>\n",
              "      <td>28.8165</td>\n",
              "      <td>7.7676</td>\n",
              "      <td>7.60961</td>\n",
              "      <td>-25.111459</td>\n",
              "      <td>26.3543</td>\n",
              "      <td>Abnormal</td>\n",
              "      <td>Attribute3 = lumbar_lordosis_angle (numeric)</td>\n",
              "    </tr>\n",
              "    <tr>\n",
              "      <th>8</th>\n",
              "      <td>43.790190</td>\n",
              "      <td>13.533753</td>\n",
              "      <td>42.690814</td>\n",
              "      <td>30.256437</td>\n",
              "      <td>125.002893</td>\n",
              "      <td>13.289018</td>\n",
              "      <td>0.190408</td>\n",
              "      <td>22.7085</td>\n",
              "      <td>11.4234</td>\n",
              "      <td>10.59188</td>\n",
              "      <td>-20.020075</td>\n",
              "      <td>40.0276</td>\n",
              "      <td>Abnormal</td>\n",
              "      <td>Attribute4 = sacral_slope (numeric)</td>\n",
              "    </tr>\n",
              "    <tr>\n",
              "      <th>9</th>\n",
              "      <td>36.686353</td>\n",
              "      <td>5.010884</td>\n",
              "      <td>41.948751</td>\n",
              "      <td>31.675469</td>\n",
              "      <td>84.241415</td>\n",
              "      <td>0.664437</td>\n",
              "      <td>0.367700</td>\n",
              "      <td>26.2011</td>\n",
              "      <td>8.7380</td>\n",
              "      <td>14.91416</td>\n",
              "      <td>-1.702097</td>\n",
              "      <td>21.4320</td>\n",
              "      <td>Abnormal</td>\n",
              "      <td>Attribute5 = pelvic_radius (numeric)</td>\n",
              "    </tr>\n",
              "  </tbody>\n",
              "</table>\n",
              "</div>"
            ],
            "text/plain": [
              "        Col1  ...                                        Unnamed: 13\n",
              "0  63.027818  ...                                                NaN\n",
              "1  39.056951  ...                                                NaN\n",
              "2  68.832021  ...  Prediction is done by using binary classificat...\n",
              "3  69.297008  ...                                                NaN\n",
              "4  49.712859  ...                                                NaN\n",
              "5  40.250200  ...         Attribute1  = pelvic_incidence  (numeric) \n",
              "6  53.432928  ...                Attribute2 = pelvic_tilt (numeric) \n",
              "7  45.366754  ...      Attribute3 = lumbar_lordosis_angle (numeric) \n",
              "8  43.790190  ...               Attribute4 = sacral_slope (numeric) \n",
              "9  36.686353  ...              Attribute5 = pelvic_radius (numeric) \n",
              "\n",
              "[10 rows x 14 columns]"
            ]
          },
          "metadata": {
            "tags": []
          },
          "execution_count": 181
        }
      ]
    },
    {
      "cell_type": "markdown",
      "metadata": {
        "id": "uLTTHWKPuXh8",
        "colab_type": "text"
      },
      "source": [
        "There's few changes must be done"
      ]
    },
    {
      "cell_type": "code",
      "metadata": {
        "id": "dNG4Olm84T4C",
        "colab_type": "code",
        "outputId": "a98f4baa-6101-414b-acdd-c0682ae1d980",
        "colab": {
          "base_uri": "https://localhost:8080/",
          "height": 364
        }
      },
      "source": [
        "# Changing column name\n",
        "\n",
        "df = df.loc[:, ~df.columns.str.contains('^Unnamed')]\n",
        "df.rename(columns = {\n",
        "    \"Col1\" : \"pelvic_incidence\", \n",
        "    \"Col2\" : \"pelvic_tilt\",\n",
        "    \"Col3\" : \"lumbar_lordosis_angle\",\n",
        "    \"Col4\" : \"sacral_slope\", \n",
        "    \"Col5\" : \"pelvic_radius\",\n",
        "    \"Col6\" : \"degree_spondylolisthesis\", \n",
        "    \"Col7\" : \"pelvic_slope\",\n",
        "    \"Col8\" : \"direct_tilt\",\n",
        "    \"Col9\" : \"thoracic_slope\", \n",
        "    \"Col10\" :\"cervical_tilt\", \n",
        "    \"Col11\" : \"sacrum_angle\",\n",
        "    \"Col12\" : \"scoliosis_slope\", \n",
        "    \"Class_att\" : \"Class_att\"}, inplace=True)\n",
        "\n",
        "df['Class_att'].replace({\"Abnormal\": True, \"Normal\": False}, inplace=True)\n",
        "df['Class_att'] = df['Class_att'].astype(float)\n",
        "\n",
        "df.info()"
      ],
      "execution_count": 182,
      "outputs": [
        {
          "output_type": "stream",
          "text": [
            "<class 'pandas.core.frame.DataFrame'>\n",
            "RangeIndex: 310 entries, 0 to 309\n",
            "Data columns (total 13 columns):\n",
            " #   Column                    Non-Null Count  Dtype  \n",
            "---  ------                    --------------  -----  \n",
            " 0   pelvic_incidence          310 non-null    float64\n",
            " 1   pelvic_tilt               310 non-null    float64\n",
            " 2   lumbar_lordosis_angle     310 non-null    float64\n",
            " 3   sacral_slope              310 non-null    float64\n",
            " 4   pelvic_radius             310 non-null    float64\n",
            " 5   degree_spondylolisthesis  310 non-null    float64\n",
            " 6   pelvic_slope              310 non-null    float64\n",
            " 7   direct_tilt               310 non-null    float64\n",
            " 8   thoracic_slope            310 non-null    float64\n",
            " 9   cervical_tilt             310 non-null    float64\n",
            " 10  sacrum_angle              310 non-null    float64\n",
            " 11  scoliosis_slope           310 non-null    float64\n",
            " 12  Class_att                 310 non-null    float64\n",
            "dtypes: float64(13)\n",
            "memory usage: 31.6 KB\n"
          ],
          "name": "stdout"
        }
      ]
    },
    {
      "cell_type": "markdown",
      "metadata": {
        "id": "5YR40C0vQ96r",
        "colab_type": "text"
      },
      "source": [
        "It can be seen that there's no null value in the dataset."
      ]
    },
    {
      "cell_type": "code",
      "metadata": {
        "id": "L53N5oWkzlLp",
        "colab_type": "code",
        "colab": {}
      },
      "source": [
        "# Splitting Dataset\n",
        "\n",
        "df_train, df_test = train_test_split(df, test_size=0.2)\n",
        "df_train = df_train.reindex(np.random.permutation(df_train.index))"
      ],
      "execution_count": 0,
      "outputs": []
    },
    {
      "cell_type": "markdown",
      "metadata": {
        "id": "hkKXWFaZz1zk",
        "colab_type": "text"
      },
      "source": [
        "# Feature Engineering"
      ]
    },
    {
      "cell_type": "code",
      "metadata": {
        "id": "x8SwDXqW3IGi",
        "colab_type": "code",
        "colab": {}
      },
      "source": [
        "# Function to Calculate the Z-Scores of each columns in df_feature\n",
        "def normalize(df, df_feature):\n",
        "    for i in df_feature.columns:\n",
        "        df[i] = (df[i]-df[i].mean())/df[i].std()\n",
        "    return df"
      ],
      "execution_count": 0,
      "outputs": []
    },
    {
      "cell_type": "code",
      "metadata": {
        "id": "t9-OCki1z2WR",
        "colab_type": "code",
        "outputId": "bbde9c59-9c36-4beb-b55b-115c8c2389c0",
        "colab": {
          "base_uri": "https://localhost:8080/",
          "height": 326
        }
      },
      "source": [
        "# Calculate the Z-scores of each column in the training set and testing set\n",
        "\n",
        "df_feature = df.drop(['Class_att'], axis=1)\n",
        "df_train_norm = normalize(df_train, df_feature)\n",
        "df_test_norm = normalize(df_test, df_feature)\n",
        "# Examine some of the values of the normalized training set. Notice that most \n",
        "# Z-scores fall between -2 and +2.\n",
        "df_train_norm.head()"
      ],
      "execution_count": 185,
      "outputs": [
        {
          "output_type": "stream",
          "text": [
            "/usr/local/lib/python3.6/dist-packages/ipykernel_launcher.py:3: SettingWithCopyWarning: \n",
            "A value is trying to be set on a copy of a slice from a DataFrame.\n",
            "Try using .loc[row_indexer,col_indexer] = value instead\n",
            "\n",
            "See the caveats in the documentation: https://pandas.pydata.org/pandas-docs/stable/user_guide/indexing.html#returning-a-view-versus-a-copy\n",
            "  This is separate from the ipykernel package so we can avoid doing imports until\n"
          ],
          "name": "stderr"
        },
        {
          "output_type": "execute_result",
          "data": {
            "text/html": [
              "<div>\n",
              "<style scoped>\n",
              "    .dataframe tbody tr th:only-of-type {\n",
              "        vertical-align: middle;\n",
              "    }\n",
              "\n",
              "    .dataframe tbody tr th {\n",
              "        vertical-align: top;\n",
              "    }\n",
              "\n",
              "    .dataframe thead th {\n",
              "        text-align: right;\n",
              "    }\n",
              "</style>\n",
              "<table border=\"1\" class=\"dataframe\">\n",
              "  <thead>\n",
              "    <tr style=\"text-align: right;\">\n",
              "      <th></th>\n",
              "      <th>pelvic_incidence</th>\n",
              "      <th>pelvic_tilt</th>\n",
              "      <th>lumbar_lordosis_angle</th>\n",
              "      <th>sacral_slope</th>\n",
              "      <th>pelvic_radius</th>\n",
              "      <th>degree_spondylolisthesis</th>\n",
              "      <th>pelvic_slope</th>\n",
              "      <th>direct_tilt</th>\n",
              "      <th>thoracic_slope</th>\n",
              "      <th>cervical_tilt</th>\n",
              "      <th>sacrum_angle</th>\n",
              "      <th>scoliosis_slope</th>\n",
              "      <th>Class_att</th>\n",
              "    </tr>\n",
              "  </thead>\n",
              "  <tbody>\n",
              "    <tr>\n",
              "      <th>133</th>\n",
              "      <td>1.225498</td>\n",
              "      <td>0.203438</td>\n",
              "      <td>0.951435</td>\n",
              "      <td>1.474015</td>\n",
              "      <td>0.095005</td>\n",
              "      <td>0.931839</td>\n",
              "      <td>-0.690677</td>\n",
              "      <td>-0.652336</td>\n",
              "      <td>1.537383</td>\n",
              "      <td>0.930704</td>\n",
              "      <td>0.832695</td>\n",
              "      <td>0.693693</td>\n",
              "      <td>1.0</td>\n",
              "    </tr>\n",
              "    <tr>\n",
              "      <th>184</th>\n",
              "      <td>1.184872</td>\n",
              "      <td>0.269732</td>\n",
              "      <td>2.089967</td>\n",
              "      <td>1.367104</td>\n",
              "      <td>0.546040</td>\n",
              "      <td>0.385047</td>\n",
              "      <td>1.347288</td>\n",
              "      <td>-1.152533</td>\n",
              "      <td>-0.803255</td>\n",
              "      <td>0.064795</td>\n",
              "      <td>0.760700</td>\n",
              "      <td>0.311693</td>\n",
              "      <td>1.0</td>\n",
              "    </tr>\n",
              "    <tr>\n",
              "      <th>294</th>\n",
              "      <td>-0.842323</td>\n",
              "      <td>-0.780245</td>\n",
              "      <td>-0.848863</td>\n",
              "      <td>-0.504169</td>\n",
              "      <td>0.743834</td>\n",
              "      <td>-0.980957</td>\n",
              "      <td>1.388180</td>\n",
              "      <td>-1.316504</td>\n",
              "      <td>0.640373</td>\n",
              "      <td>1.556743</td>\n",
              "      <td>-0.643247</td>\n",
              "      <td>1.367787</td>\n",
              "      <td>0.0</td>\n",
              "    </tr>\n",
              "    <tr>\n",
              "      <th>147</th>\n",
              "      <td>-0.327413</td>\n",
              "      <td>-2.131757</td>\n",
              "      <td>0.170363</td>\n",
              "      <td>1.257195</td>\n",
              "      <td>-0.619258</td>\n",
              "      <td>0.182800</td>\n",
              "      <td>0.658306</td>\n",
              "      <td>1.799351</td>\n",
              "      <td>-1.191147</td>\n",
              "      <td>0.940118</td>\n",
              "      <td>0.764147</td>\n",
              "      <td>-0.752696</td>\n",
              "      <td>1.0</td>\n",
              "    </tr>\n",
              "    <tr>\n",
              "      <th>76</th>\n",
              "      <td>1.516545</td>\n",
              "      <td>1.759969</td>\n",
              "      <td>0.879585</td>\n",
              "      <td>0.625438</td>\n",
              "      <td>1.596385</td>\n",
              "      <td>2.678846</td>\n",
              "      <td>0.618355</td>\n",
              "      <td>-0.517146</td>\n",
              "      <td>1.291655</td>\n",
              "      <td>0.259117</td>\n",
              "      <td>-0.055962</td>\n",
              "      <td>-1.830543</td>\n",
              "      <td>1.0</td>\n",
              "    </tr>\n",
              "  </tbody>\n",
              "</table>\n",
              "</div>"
            ],
            "text/plain": [
              "     pelvic_incidence  pelvic_tilt  ...  scoliosis_slope  Class_att\n",
              "133          1.225498     0.203438  ...         0.693693        1.0\n",
              "184          1.184872     0.269732  ...         0.311693        1.0\n",
              "294         -0.842323    -0.780245  ...         1.367787        0.0\n",
              "147         -0.327413    -2.131757  ...        -0.752696        1.0\n",
              "76           1.516545     1.759969  ...        -1.830543        1.0\n",
              "\n",
              "[5 rows x 13 columns]"
            ]
          },
          "metadata": {
            "tags": []
          },
          "execution_count": 185
        }
      ]
    },
    {
      "cell_type": "markdown",
      "metadata": {
        "id": "dLU0WPgZ8Fp_",
        "colab_type": "text"
      },
      "source": [
        "# Data Analysis"
      ]
    },
    {
      "cell_type": "code",
      "metadata": {
        "id": "nHCEKvjwz2q2",
        "colab_type": "code",
        "colab": {}
      },
      "source": [
        "# Exploratory data analysis done to get overview of the data\n",
        "def eda(df, feature):\n",
        "    df[\"Class_att\"].value_counts().sort_index().plot.bar()\n",
        "\n",
        "    plt.subplots(figsize=(12,8))\n",
        "    sns.heatmap(df.corr())\n",
        "\n",
        "    sns.pairplot(df, hue=\"Class_att\")\n",
        "\n",
        "    df.hist(figsize=(15,12),bins = 20, color=\"#007959AA\")\n",
        "    plt.title(\"Features Distribution\")\n",
        "    plt.show()\n",
        "\n",
        "eda(df, 'Class_att')"
      ],
      "execution_count": 0,
      "outputs": []
    },
    {
      "cell_type": "markdown",
      "metadata": {
        "id": "Nl0NF-K7vD1x",
        "colab_type": "text"
      },
      "source": [
        "EDA Result."
      ]
    },
    {
      "cell_type": "code",
      "metadata": {
        "id": "UTPySsrh6icy",
        "colab_type": "code",
        "colab": {}
      },
      "source": [
        "# based on the above diagram, we choose some features that more relate with label  \n",
        "# pelvic incidence is not choosen because linearly dependent to pelvic tilt and sacral slope, it might give false weight due redundance\n",
        "\n",
        "feature_set = ['pelvic_tilt', 'lumbar_lordosis_angle', 'sacral_slope', 'pelvic_radius', 'degree_spondylolisthesis']\n",
        "def tf_feature_columns(input_features):\n",
        "    feature_columns = []\n",
        "    for my_feature in input_features:\n",
        "        feature_columns.append(tf.feature_column.numeric_column(my_feature))\n",
        "    return feature_columns\n",
        "\n",
        "#feature Layer Creation\n",
        "\n",
        "tf_feature_columns = tf_feature_columns(feature_set)\n",
        "feature_layer = layers.DenseFeatures(tf_feature_columns)\n",
        "#feature_layer(dict(df_train_norm))"
      ],
      "execution_count": 0,
      "outputs": []
    },
    {
      "cell_type": "markdown",
      "metadata": {
        "id": "7xKQaTTK0bkQ",
        "colab_type": "text"
      },
      "source": [
        "# Define Model & Training Function"
      ]
    },
    {
      "cell_type": "code",
      "metadata": {
        "id": "KgXivg_60hL5",
        "colab_type": "code",
        "outputId": "ab782ffd-90eb-46c6-8684-c588484dfd87",
        "colab": {
          "base_uri": "https://localhost:8080/",
          "height": 34
        }
      },
      "source": [
        "# After few times tweaking the the hyperparameters, and based on distribution on EDA,\n",
        "# The model could generate good result with linear model\n",
        "\n",
        "def create_model(my_learning_rate, feature_layer, my_metrics):\n",
        "\n",
        "  model = tf.keras.models.Sequential()\n",
        "\n",
        "\n",
        "  model.add(feature_layer)\n",
        "\n",
        " # Implement L2 regularization in the first hidden layer.\n",
        " # model.add(tf.keras.layers.Dense(units=10, \n",
        " #                                 activation='relu',\n",
        " #                                 kernel_regularizer=tf.keras.regularizers.l2(0.04),\n",
        " #                                 name='Hidden1'))\n",
        "  \n",
        "  # Implement L2 regularization in the second hidden layer.\n",
        " # model.add(tf.keras.layers.Dense(units=5, \n",
        " #                                 activation='relu', \n",
        " #                                 kernel_regularizer=tf.keras.regularizers.l2(0.04),\n",
        " #                                 name='Hidden2'))\n",
        "  \n",
        "  model.add(tf.keras.layers.Dense(units=1, activation=tf.sigmoid),)\n",
        "\n",
        "  model.compile(optimizer=tf.keras.optimizers.RMSprop(lr=my_learning_rate),                                                   \n",
        "                loss=tf.keras.losses.BinaryCrossentropy(),\n",
        "                metrics=my_metrics)\n",
        "\n",
        "  return model        \n",
        "\n",
        "\n",
        "def train_model(model, dataset, epochs, label_name,\n",
        "                batch_size=None, shuffle=True, my_validation_split=0.2):\n",
        "\n",
        "  features = {name:np.array(value) for name, value in dataset.items()}\n",
        "  label = np.array(features.pop(label_name)) \n",
        "  history = model.fit(x=features, y=label, batch_size=batch_size,\n",
        "                      epochs=epochs, shuffle=shuffle, validation_split = my_validation_split)\n",
        "  epochs = history.epoch\n",
        "  hist = pd.DataFrame(history.history)\n",
        "  return epochs, hist  \n",
        "\n",
        "print(\"Defined the create_model and train_model functions.\")   "
      ],
      "execution_count": 231,
      "outputs": [
        {
          "output_type": "stream",
          "text": [
            "Defined the create_model and train_model functions.\n"
          ],
          "name": "stdout"
        }
      ]
    },
    {
      "cell_type": "markdown",
      "metadata": {
        "id": "NePZ5Stt0kjE",
        "colab_type": "text"
      },
      "source": [
        ""
      ]
    },
    {
      "cell_type": "markdown",
      "metadata": {
        "id": "UjaMJ_kP0h8R",
        "colab_type": "text"
      },
      "source": [
        "# Plotting Function"
      ]
    },
    {
      "cell_type": "code",
      "metadata": {
        "id": "5yAW5mMA0lgG",
        "colab_type": "code",
        "outputId": "24fcb41a-1b6c-47c6-ecf4-b5c6537dee17",
        "colab": {
          "base_uri": "https://localhost:8080/",
          "height": 34
        }
      },
      "source": [
        "#@title Define the plotting function.\n",
        "def plot_curve(epochs, hist, list_of_metrics):\n",
        "  \"\"\"Plot a curve of one or more classification metrics vs. epoch.\"\"\"  \n",
        "  # list_of_metrics should be one of the names shown in:\n",
        "  # https://www.tensorflow.org/tutorials/structured_data/imbalanced_data#define_the_model_and_metrics  \n",
        "\n",
        "  plt.figure()\n",
        "  plt.xlabel(\"Epoch\")\n",
        "  plt.ylabel(\"Value\")\n",
        "\n",
        "  for m in list_of_metrics:\n",
        "    x = hist[m]\n",
        "    plt.plot(epochs[1:], x[1:], label=m)\n",
        "\n",
        "  plt.legend()\n",
        "\n",
        "print(\"Defined the plot_curve function.\")"
      ],
      "execution_count": 232,
      "outputs": [
        {
          "output_type": "stream",
          "text": [
            "Defined the plot_curve function.\n"
          ],
          "name": "stdout"
        }
      ]
    },
    {
      "cell_type": "code",
      "metadata": {
        "id": "wGT7GKKewMLV",
        "colab_type": "code",
        "colab": {
          "base_uri": "https://localhost:8080/",
          "height": 34
        },
        "outputId": "83e0ff60-ce95-4690-a205-04ffe1ce7a65"
      },
      "source": [
        "#@title Define the plotting function\n",
        "\n",
        "def plot_the_loss_curve(epochs, mae_training, mae_validation):\n",
        "  \"\"\"Plot a curve of loss vs. epoch.\"\"\"\n",
        "\n",
        "  plt.figure()\n",
        "  plt.xlabel(\"Epoch\")\n",
        "  plt.ylabel(\"Binary Loss\")\n",
        "\n",
        "  plt.plot(epochs[1:], mae_training[1:], label=\"Training Loss\")\n",
        "  plt.plot(epochs[1:], mae_validation[1:], label=\"Validation Loss\")\n",
        "  plt.legend()\n",
        "  \n",
        "  # We're not going to plot the first epoch, since the loss on the first epoch\n",
        "  # is often substantially greater than the loss for other epochs.\n",
        "  merged_mae_lists = mae_training[1:] + mae_validation[1:]\n",
        "  highest_loss = max(merged_mae_lists)\n",
        "  lowest_loss = min(merged_mae_lists)\n",
        "  delta = highest_loss - lowest_loss\n",
        "  print(delta)\n",
        "\n",
        "  plt.show()  \n",
        "\n",
        "print(\"Defined the plot_the_loss_curve function.\")"
      ],
      "execution_count": 233,
      "outputs": [
        {
          "output_type": "stream",
          "text": [
            "Defined the plot_the_loss_curve function.\n"
          ],
          "name": "stdout"
        }
      ]
    },
    {
      "cell_type": "markdown",
      "metadata": {
        "id": "Jmlrgit30l_s",
        "colab_type": "text"
      },
      "source": [
        "# Prediction"
      ]
    },
    {
      "cell_type": "code",
      "metadata": {
        "id": "6lbfkwPxxpyV",
        "colab_type": "code",
        "colab": {}
      },
      "source": [
        "# Hyperparameter Tuning\n",
        "learning_rate = 0.01\n",
        "epochs = 120\n",
        "batch_size = 32\n",
        "label_name = \"Class_att\"\n",
        "classification_threshold = 0.5"
      ],
      "execution_count": 0,
      "outputs": []
    },
    {
      "cell_type": "code",
      "metadata": {
        "id": "6yJ3Y--F0os_",
        "colab_type": "code",
        "outputId": "edacb903-4021-43d3-d58e-643c748c4601",
        "colab": {
          "base_uri": "https://localhost:8080/",
          "height": 1000
        }
      },
      "source": [
        "# Establish the metrics the model will measure.\n",
        "METRICS = [\n",
        "           tf.keras.metrics.BinaryAccuracy(name='accuracy',\n",
        "                                           threshold=classification_threshold),\n",
        "           tf.keras.metrics.AUC(num_thresholds=100, name='auc')\n",
        "          ]\n",
        "\n",
        "# Establish the model's topography.\n",
        "my_model = create_model(learning_rate, feature_layer, METRICS)\n",
        "\n",
        "# Train the model on the training set.\n",
        "epochs, hist = train_model(my_model, df_train_norm, epochs, \n",
        "                           label_name, batch_size)\n",
        "\n",
        "# Plot a graph of the metric(s) vs. epochs.\n",
        "list_of_metrics_to_plot = ['accuracy'] \n",
        "\n",
        "# Plot loss curve\n",
        "plot_curve(epochs, hist, list_of_metrics_to_plot)\n",
        "plot_the_loss_curve(epochs, hist[\"loss\"], hist[\"val_loss\"])\n",
        "\n",
        "# Plot metrics vs. epochs\n",
        "list_of_metrics_to_plot = ['auc'] \n",
        "plot_curve(epochs, hist, list_of_metrics_to_plot)"
      ],
      "execution_count": 235,
      "outputs": [
        {
          "output_type": "stream",
          "text": [
            "Epoch 1/120\n",
            "7/7 [==============================] - 0s 42ms/step - loss: 0.8819 - accuracy: 0.3939 - auc: 0.2634 - val_loss: 0.7759 - val_accuracy: 0.4600 - val_auc: 0.4286\n",
            "Epoch 2/120\n",
            "7/7 [==============================] - 0s 10ms/step - loss: 0.7704 - accuracy: 0.4545 - auc: 0.3809 - val_loss: 0.7232 - val_accuracy: 0.4800 - val_auc: 0.5000\n",
            "Epoch 3/120\n",
            "7/7 [==============================] - 0s 10ms/step - loss: 0.7322 - accuracy: 0.5354 - auc: 0.4915 - val_loss: 0.6851 - val_accuracy: 0.5000 - val_auc: 0.5411\n",
            "Epoch 4/120\n",
            "7/7 [==============================] - 0s 10ms/step - loss: 0.6539 - accuracy: 0.5859 - auc: 0.5770 - val_loss: 0.6541 - val_accuracy: 0.4600 - val_auc: 0.5911\n",
            "Epoch 5/120\n",
            "7/7 [==============================] - 0s 11ms/step - loss: 0.6780 - accuracy: 0.6263 - auc: 0.6389 - val_loss: 0.6311 - val_accuracy: 0.5600 - val_auc: 0.6232\n",
            "Epoch 6/120\n",
            "7/7 [==============================] - 0s 11ms/step - loss: 0.6084 - accuracy: 0.6414 - auc: 0.6805 - val_loss: 0.6109 - val_accuracy: 0.6200 - val_auc: 0.6724\n",
            "Epoch 7/120\n",
            "7/7 [==============================] - 0s 10ms/step - loss: 0.5694 - accuracy: 0.6667 - auc: 0.7151 - val_loss: 0.5927 - val_accuracy: 0.6400 - val_auc: 0.7118\n",
            "Epoch 8/120\n",
            "7/7 [==============================] - 0s 11ms/step - loss: 0.5774 - accuracy: 0.6970 - auc: 0.7403 - val_loss: 0.5729 - val_accuracy: 0.6400 - val_auc: 0.7414\n",
            "Epoch 9/120\n",
            "7/7 [==============================] - 0s 11ms/step - loss: 0.5554 - accuracy: 0.7121 - auc: 0.7688 - val_loss: 0.5595 - val_accuracy: 0.6800 - val_auc: 0.7652\n",
            "Epoch 10/120\n",
            "7/7 [==============================] - 0s 10ms/step - loss: 0.5330 - accuracy: 0.7222 - auc: 0.7846 - val_loss: 0.5447 - val_accuracy: 0.7000 - val_auc: 0.7882\n",
            "Epoch 11/120\n",
            "7/7 [==============================] - 0s 10ms/step - loss: 0.5018 - accuracy: 0.7525 - auc: 0.8000 - val_loss: 0.5336 - val_accuracy: 0.7000 - val_auc: 0.7947\n",
            "Epoch 12/120\n",
            "7/7 [==============================] - 0s 10ms/step - loss: 0.5206 - accuracy: 0.7879 - auc: 0.8170 - val_loss: 0.5232 - val_accuracy: 0.7000 - val_auc: 0.8144\n",
            "Epoch 13/120\n",
            "7/7 [==============================] - 0s 10ms/step - loss: 0.4826 - accuracy: 0.7929 - auc: 0.8305 - val_loss: 0.5156 - val_accuracy: 0.7400 - val_auc: 0.8243\n",
            "Epoch 14/120\n",
            "7/7 [==============================] - 0s 11ms/step - loss: 0.4581 - accuracy: 0.7980 - auc: 0.8388 - val_loss: 0.5097 - val_accuracy: 0.7200 - val_auc: 0.8276\n",
            "Epoch 15/120\n",
            "7/7 [==============================] - 0s 10ms/step - loss: 0.4441 - accuracy: 0.8081 - auc: 0.8504 - val_loss: 0.5032 - val_accuracy: 0.7600 - val_auc: 0.8366\n",
            "Epoch 16/120\n",
            "7/7 [==============================] - 0s 9ms/step - loss: 0.4205 - accuracy: 0.8131 - auc: 0.8589 - val_loss: 0.4948 - val_accuracy: 0.7600 - val_auc: 0.8383\n",
            "Epoch 17/120\n",
            "7/7 [==============================] - 0s 10ms/step - loss: 0.4319 - accuracy: 0.8081 - auc: 0.8615 - val_loss: 0.4885 - val_accuracy: 0.7600 - val_auc: 0.8481\n",
            "Epoch 18/120\n",
            "7/7 [==============================] - 0s 13ms/step - loss: 0.4231 - accuracy: 0.8283 - auc: 0.8697 - val_loss: 0.4820 - val_accuracy: 0.7600 - val_auc: 0.8539\n",
            "Epoch 19/120\n",
            "7/7 [==============================] - 0s 11ms/step - loss: 0.4164 - accuracy: 0.8384 - auc: 0.8748 - val_loss: 0.4762 - val_accuracy: 0.7600 - val_auc: 0.8604\n",
            "Epoch 20/120\n",
            "7/7 [==============================] - 0s 11ms/step - loss: 0.4250 - accuracy: 0.8283 - auc: 0.8768 - val_loss: 0.4712 - val_accuracy: 0.7600 - val_auc: 0.8645\n",
            "Epoch 21/120\n",
            "7/7 [==============================] - 0s 10ms/step - loss: 0.4020 - accuracy: 0.8384 - auc: 0.8826 - val_loss: 0.4675 - val_accuracy: 0.7600 - val_auc: 0.8670\n",
            "Epoch 22/120\n",
            "7/7 [==============================] - 0s 10ms/step - loss: 0.3964 - accuracy: 0.8434 - auc: 0.8860 - val_loss: 0.4630 - val_accuracy: 0.7600 - val_auc: 0.8703\n",
            "Epoch 23/120\n",
            "7/7 [==============================] - 0s 10ms/step - loss: 0.4246 - accuracy: 0.8485 - auc: 0.8883 - val_loss: 0.4599 - val_accuracy: 0.7600 - val_auc: 0.8752\n",
            "Epoch 24/120\n",
            "7/7 [==============================] - 0s 10ms/step - loss: 0.4126 - accuracy: 0.8586 - auc: 0.8918 - val_loss: 0.4559 - val_accuracy: 0.7800 - val_auc: 0.8818\n",
            "Epoch 25/120\n",
            "7/7 [==============================] - 0s 9ms/step - loss: 0.3908 - accuracy: 0.8636 - auc: 0.8948 - val_loss: 0.4504 - val_accuracy: 0.7800 - val_auc: 0.8892\n",
            "Epoch 26/120\n",
            "7/7 [==============================] - 0s 11ms/step - loss: 0.3627 - accuracy: 0.8586 - auc: 0.8972 - val_loss: 0.4459 - val_accuracy: 0.7800 - val_auc: 0.8908\n",
            "Epoch 27/120\n",
            "7/7 [==============================] - 0s 10ms/step - loss: 0.3748 - accuracy: 0.8636 - auc: 0.8987 - val_loss: 0.4430 - val_accuracy: 0.7800 - val_auc: 0.8892\n",
            "Epoch 28/120\n",
            "7/7 [==============================] - 0s 10ms/step - loss: 0.3655 - accuracy: 0.8586 - auc: 0.9010 - val_loss: 0.4396 - val_accuracy: 0.7800 - val_auc: 0.8941\n",
            "Epoch 29/120\n",
            "7/7 [==============================] - 0s 9ms/step - loss: 0.3839 - accuracy: 0.8586 - auc: 0.9027 - val_loss: 0.4384 - val_accuracy: 0.7800 - val_auc: 0.8916\n",
            "Epoch 30/120\n",
            "7/7 [==============================] - 0s 10ms/step - loss: 0.3648 - accuracy: 0.8586 - auc: 0.9022 - val_loss: 0.4337 - val_accuracy: 0.7800 - val_auc: 0.8957\n",
            "Epoch 31/120\n",
            "7/7 [==============================] - 0s 11ms/step - loss: 0.4091 - accuracy: 0.8636 - auc: 0.9053 - val_loss: 0.4306 - val_accuracy: 0.7800 - val_auc: 0.9031\n",
            "Epoch 32/120\n",
            "7/7 [==============================] - 0s 12ms/step - loss: 0.3596 - accuracy: 0.8687 - auc: 0.9093 - val_loss: 0.4269 - val_accuracy: 0.7800 - val_auc: 0.9015\n",
            "Epoch 33/120\n",
            "7/7 [==============================] - 0s 11ms/step - loss: 0.3430 - accuracy: 0.8535 - auc: 0.9097 - val_loss: 0.4246 - val_accuracy: 0.8000 - val_auc: 0.9015\n",
            "Epoch 34/120\n",
            "7/7 [==============================] - 0s 10ms/step - loss: 0.3486 - accuracy: 0.8485 - auc: 0.9125 - val_loss: 0.4207 - val_accuracy: 0.8000 - val_auc: 0.9015\n",
            "Epoch 35/120\n",
            "7/7 [==============================] - 0s 11ms/step - loss: 0.3500 - accuracy: 0.8485 - auc: 0.9109 - val_loss: 0.4172 - val_accuracy: 0.8000 - val_auc: 0.9064\n",
            "Epoch 36/120\n",
            "7/7 [==============================] - 0s 10ms/step - loss: 0.3692 - accuracy: 0.8535 - auc: 0.9136 - val_loss: 0.4142 - val_accuracy: 0.8200 - val_auc: 0.9080\n",
            "Epoch 37/120\n",
            "7/7 [==============================] - 0s 10ms/step - loss: 0.3785 - accuracy: 0.8535 - auc: 0.9158 - val_loss: 0.4120 - val_accuracy: 0.8200 - val_auc: 0.9080\n",
            "Epoch 38/120\n",
            "7/7 [==============================] - 0s 11ms/step - loss: 0.3364 - accuracy: 0.8586 - auc: 0.9172 - val_loss: 0.4101 - val_accuracy: 0.8000 - val_auc: 0.9122\n",
            "Epoch 39/120\n",
            "7/7 [==============================] - 0s 10ms/step - loss: 0.3486 - accuracy: 0.8586 - auc: 0.9183 - val_loss: 0.4069 - val_accuracy: 0.8400 - val_auc: 0.9138\n",
            "Epoch 40/120\n",
            "7/7 [==============================] - 0s 11ms/step - loss: 0.3433 - accuracy: 0.8586 - auc: 0.9202 - val_loss: 0.4015 - val_accuracy: 0.8600 - val_auc: 0.9163\n",
            "Epoch 41/120\n",
            "7/7 [==============================] - 0s 10ms/step - loss: 0.3702 - accuracy: 0.8586 - auc: 0.9216 - val_loss: 0.3981 - val_accuracy: 0.8600 - val_auc: 0.9187\n",
            "Epoch 42/120\n",
            "7/7 [==============================] - 0s 10ms/step - loss: 0.3198 - accuracy: 0.8737 - auc: 0.9234 - val_loss: 0.3945 - val_accuracy: 0.8600 - val_auc: 0.9195\n",
            "Epoch 43/120\n",
            "7/7 [==============================] - 0s 11ms/step - loss: 0.3202 - accuracy: 0.8636 - auc: 0.9244 - val_loss: 0.3918 - val_accuracy: 0.8800 - val_auc: 0.9187\n",
            "Epoch 44/120\n",
            "7/7 [==============================] - 0s 12ms/step - loss: 0.3769 - accuracy: 0.8687 - auc: 0.9252 - val_loss: 0.3887 - val_accuracy: 0.8400 - val_auc: 0.9195\n",
            "Epoch 45/120\n",
            "7/7 [==============================] - 0s 53ms/step - loss: 0.3653 - accuracy: 0.8535 - auc: 0.9242 - val_loss: 0.3843 - val_accuracy: 0.8400 - val_auc: 0.9253\n",
            "Epoch 46/120\n",
            "7/7 [==============================] - 0s 10ms/step - loss: 0.3578 - accuracy: 0.8535 - auc: 0.9261 - val_loss: 0.3821 - val_accuracy: 0.8600 - val_auc: 0.9269\n",
            "Epoch 47/120\n",
            "7/7 [==============================] - 0s 10ms/step - loss: 0.3359 - accuracy: 0.8586 - auc: 0.9275 - val_loss: 0.3802 - val_accuracy: 0.8600 - val_auc: 0.9269\n",
            "Epoch 48/120\n",
            "7/7 [==============================] - 0s 10ms/step - loss: 0.3107 - accuracy: 0.8586 - auc: 0.9285 - val_loss: 0.3780 - val_accuracy: 0.8600 - val_auc: 0.9278\n",
            "Epoch 49/120\n",
            "7/7 [==============================] - 0s 10ms/step - loss: 0.3449 - accuracy: 0.8586 - auc: 0.9301 - val_loss: 0.3761 - val_accuracy: 0.8400 - val_auc: 0.9294\n",
            "Epoch 50/120\n",
            "7/7 [==============================] - 0s 11ms/step - loss: 0.3451 - accuracy: 0.8535 - auc: 0.9299 - val_loss: 0.3752 - val_accuracy: 0.8400 - val_auc: 0.9319\n",
            "Epoch 51/120\n",
            "7/7 [==============================] - 0s 10ms/step - loss: 0.3431 - accuracy: 0.8535 - auc: 0.9304 - val_loss: 0.3723 - val_accuracy: 0.8400 - val_auc: 0.9310\n",
            "Epoch 52/120\n",
            "7/7 [==============================] - 0s 11ms/step - loss: 0.3318 - accuracy: 0.8485 - auc: 0.9304 - val_loss: 0.3717 - val_accuracy: 0.8800 - val_auc: 0.9335\n",
            "Epoch 53/120\n",
            "7/7 [==============================] - 0s 10ms/step - loss: 0.3259 - accuracy: 0.8535 - auc: 0.9313 - val_loss: 0.3692 - val_accuracy: 0.8800 - val_auc: 0.9368\n",
            "Epoch 54/120\n",
            "7/7 [==============================] - 0s 10ms/step - loss: 0.3153 - accuracy: 0.8636 - auc: 0.9317 - val_loss: 0.3668 - val_accuracy: 0.9000 - val_auc: 0.9376\n",
            "Epoch 55/120\n",
            "7/7 [==============================] - 0s 10ms/step - loss: 0.3459 - accuracy: 0.8485 - auc: 0.9322 - val_loss: 0.3645 - val_accuracy: 0.8600 - val_auc: 0.9376\n",
            "Epoch 56/120\n",
            "7/7 [==============================] - 0s 11ms/step - loss: 0.3092 - accuracy: 0.8636 - auc: 0.9325 - val_loss: 0.3614 - val_accuracy: 0.8800 - val_auc: 0.9376\n",
            "Epoch 57/120\n",
            "7/7 [==============================] - 0s 9ms/step - loss: 0.3100 - accuracy: 0.8586 - auc: 0.9319 - val_loss: 0.3601 - val_accuracy: 0.8800 - val_auc: 0.9343\n",
            "Epoch 58/120\n",
            "7/7 [==============================] - 0s 10ms/step - loss: 0.3103 - accuracy: 0.8535 - auc: 0.9324 - val_loss: 0.3581 - val_accuracy: 0.8800 - val_auc: 0.9392\n",
            "Epoch 59/120\n",
            "7/7 [==============================] - 0s 11ms/step - loss: 0.3066 - accuracy: 0.8636 - auc: 0.9338 - val_loss: 0.3577 - val_accuracy: 0.8600 - val_auc: 0.9343\n",
            "Epoch 60/120\n",
            "7/7 [==============================] - 0s 10ms/step - loss: 0.2939 - accuracy: 0.8535 - auc: 0.9332 - val_loss: 0.3565 - val_accuracy: 0.8800 - val_auc: 0.9368\n",
            "Epoch 61/120\n",
            "7/7 [==============================] - 0s 10ms/step - loss: 0.3209 - accuracy: 0.8586 - auc: 0.9347 - val_loss: 0.3549 - val_accuracy: 0.8800 - val_auc: 0.9392\n",
            "Epoch 62/120\n",
            "7/7 [==============================] - 0s 12ms/step - loss: 0.3327 - accuracy: 0.8535 - auc: 0.9341 - val_loss: 0.3545 - val_accuracy: 0.8200 - val_auc: 0.9343\n",
            "Epoch 63/120\n",
            "7/7 [==============================] - 0s 10ms/step - loss: 0.2901 - accuracy: 0.8434 - auc: 0.9327 - val_loss: 0.3537 - val_accuracy: 0.8400 - val_auc: 0.9343\n",
            "Epoch 64/120\n",
            "7/7 [==============================] - 0s 10ms/step - loss: 0.3323 - accuracy: 0.8485 - auc: 0.9339 - val_loss: 0.3511 - val_accuracy: 0.8600 - val_auc: 0.9368\n",
            "Epoch 65/120\n",
            "7/7 [==============================] - 0s 10ms/step - loss: 0.3062 - accuracy: 0.8485 - auc: 0.9336 - val_loss: 0.3494 - val_accuracy: 0.8600 - val_auc: 0.9392\n",
            "Epoch 66/120\n",
            "7/7 [==============================] - 0s 11ms/step - loss: 0.3228 - accuracy: 0.8485 - auc: 0.9344 - val_loss: 0.3467 - val_accuracy: 0.8600 - val_auc: 0.9376\n",
            "Epoch 67/120\n",
            "7/7 [==============================] - 0s 10ms/step - loss: 0.3020 - accuracy: 0.8485 - auc: 0.9342 - val_loss: 0.3455 - val_accuracy: 0.8800 - val_auc: 0.9417\n",
            "Epoch 68/120\n",
            "7/7 [==============================] - 0s 12ms/step - loss: 0.3035 - accuracy: 0.8485 - auc: 0.9356 - val_loss: 0.3445 - val_accuracy: 0.8800 - val_auc: 0.9425\n",
            "Epoch 69/120\n",
            "7/7 [==============================] - 0s 10ms/step - loss: 0.3395 - accuracy: 0.8535 - auc: 0.9357 - val_loss: 0.3419 - val_accuracy: 0.8800 - val_auc: 0.9417\n",
            "Epoch 70/120\n",
            "7/7 [==============================] - 0s 11ms/step - loss: 0.3485 - accuracy: 0.8535 - auc: 0.9364 - val_loss: 0.3403 - val_accuracy: 0.8800 - val_auc: 0.9433\n",
            "Epoch 71/120\n",
            "7/7 [==============================] - 0s 10ms/step - loss: 0.2875 - accuracy: 0.8485 - auc: 0.9365 - val_loss: 0.3393 - val_accuracy: 0.8600 - val_auc: 0.9442\n",
            "Epoch 72/120\n",
            "7/7 [==============================] - 0s 10ms/step - loss: 0.3407 - accuracy: 0.8485 - auc: 0.9370 - val_loss: 0.3370 - val_accuracy: 0.9000 - val_auc: 0.9458\n",
            "Epoch 73/120\n",
            "7/7 [==============================] - 0s 10ms/step - loss: 0.2994 - accuracy: 0.8636 - auc: 0.9375 - val_loss: 0.3366 - val_accuracy: 0.8800 - val_auc: 0.9458\n",
            "Epoch 74/120\n",
            "7/7 [==============================] - 0s 11ms/step - loss: 0.3115 - accuracy: 0.8485 - auc: 0.9371 - val_loss: 0.3373 - val_accuracy: 0.8600 - val_auc: 0.9450\n",
            "Epoch 75/120\n",
            "7/7 [==============================] - 0s 10ms/step - loss: 0.3086 - accuracy: 0.8485 - auc: 0.9368 - val_loss: 0.3368 - val_accuracy: 0.8800 - val_auc: 0.9458\n",
            "Epoch 76/120\n",
            "7/7 [==============================] - 0s 10ms/step - loss: 0.2894 - accuracy: 0.8485 - auc: 0.9374 - val_loss: 0.3376 - val_accuracy: 0.8600 - val_auc: 0.9450\n",
            "Epoch 77/120\n",
            "7/7 [==============================] - 0s 11ms/step - loss: 0.3391 - accuracy: 0.8485 - auc: 0.9368 - val_loss: 0.3356 - val_accuracy: 0.8600 - val_auc: 0.9450\n",
            "Epoch 78/120\n",
            "7/7 [==============================] - 0s 10ms/step - loss: 0.2984 - accuracy: 0.8485 - auc: 0.9369 - val_loss: 0.3364 - val_accuracy: 0.8600 - val_auc: 0.9425\n",
            "Epoch 79/120\n",
            "7/7 [==============================] - 0s 10ms/step - loss: 0.2895 - accuracy: 0.8485 - auc: 0.9360 - val_loss: 0.3351 - val_accuracy: 0.8600 - val_auc: 0.9458\n",
            "Epoch 80/120\n",
            "7/7 [==============================] - 0s 14ms/step - loss: 0.3570 - accuracy: 0.8485 - auc: 0.9368 - val_loss: 0.3310 - val_accuracy: 0.8800 - val_auc: 0.9450\n",
            "Epoch 81/120\n",
            "7/7 [==============================] - 0s 11ms/step - loss: 0.2862 - accuracy: 0.8535 - auc: 0.9383 - val_loss: 0.3291 - val_accuracy: 0.9000 - val_auc: 0.9466\n",
            "Epoch 82/120\n",
            "7/7 [==============================] - 0s 10ms/step - loss: 0.3151 - accuracy: 0.8586 - auc: 0.9380 - val_loss: 0.3294 - val_accuracy: 0.8800 - val_auc: 0.9466\n",
            "Epoch 83/120\n",
            "7/7 [==============================] - 0s 10ms/step - loss: 0.2944 - accuracy: 0.8535 - auc: 0.9375 - val_loss: 0.3296 - val_accuracy: 0.9000 - val_auc: 0.9458\n",
            "Epoch 84/120\n",
            "7/7 [==============================] - 0s 10ms/step - loss: 0.3228 - accuracy: 0.8586 - auc: 0.9374 - val_loss: 0.3305 - val_accuracy: 0.8800 - val_auc: 0.9458\n",
            "Epoch 85/120\n",
            "7/7 [==============================] - 0s 11ms/step - loss: 0.2936 - accuracy: 0.8535 - auc: 0.9372 - val_loss: 0.3293 - val_accuracy: 0.8800 - val_auc: 0.9458\n",
            "Epoch 86/120\n",
            "7/7 [==============================] - 0s 11ms/step - loss: 0.3106 - accuracy: 0.8535 - auc: 0.9380 - val_loss: 0.3274 - val_accuracy: 0.9000 - val_auc: 0.9475\n",
            "Epoch 87/120\n",
            "7/7 [==============================] - 0s 10ms/step - loss: 0.2963 - accuracy: 0.8687 - auc: 0.9387 - val_loss: 0.3268 - val_accuracy: 0.9000 - val_auc: 0.9475\n",
            "Epoch 88/120\n",
            "7/7 [==============================] - 0s 10ms/step - loss: 0.2916 - accuracy: 0.8737 - auc: 0.9387 - val_loss: 0.3266 - val_accuracy: 0.9000 - val_auc: 0.9458\n",
            "Epoch 89/120\n",
            "7/7 [==============================] - 0s 10ms/step - loss: 0.2847 - accuracy: 0.8687 - auc: 0.9380 - val_loss: 0.3271 - val_accuracy: 0.9000 - val_auc: 0.9466\n",
            "Epoch 90/120\n",
            "7/7 [==============================] - 0s 10ms/step - loss: 0.2928 - accuracy: 0.8687 - auc: 0.9387 - val_loss: 0.3261 - val_accuracy: 0.9000 - val_auc: 0.9466\n",
            "Epoch 91/120\n",
            "7/7 [==============================] - 0s 10ms/step - loss: 0.3213 - accuracy: 0.8586 - auc: 0.9384 - val_loss: 0.3243 - val_accuracy: 0.9000 - val_auc: 0.9466\n",
            "Epoch 92/120\n",
            "7/7 [==============================] - 0s 11ms/step - loss: 0.3403 - accuracy: 0.8737 - auc: 0.9396 - val_loss: 0.3228 - val_accuracy: 0.9000 - val_auc: 0.9458\n",
            "Epoch 93/120\n",
            "7/7 [==============================] - 0s 10ms/step - loss: 0.2925 - accuracy: 0.8737 - auc: 0.9389 - val_loss: 0.3235 - val_accuracy: 0.9000 - val_auc: 0.9458\n",
            "Epoch 94/120\n",
            "7/7 [==============================] - 0s 11ms/step - loss: 0.2940 - accuracy: 0.8687 - auc: 0.9393 - val_loss: 0.3246 - val_accuracy: 0.8800 - val_auc: 0.9466\n",
            "Epoch 95/120\n",
            "7/7 [==============================] - 0s 10ms/step - loss: 0.2841 - accuracy: 0.8586 - auc: 0.9385 - val_loss: 0.3237 - val_accuracy: 0.8800 - val_auc: 0.9458\n",
            "Epoch 96/120\n",
            "7/7 [==============================] - 0s 10ms/step - loss: 0.3210 - accuracy: 0.8586 - auc: 0.9384 - val_loss: 0.3216 - val_accuracy: 0.8800 - val_auc: 0.9450\n",
            "Epoch 97/120\n",
            "7/7 [==============================] - 0s 10ms/step - loss: 0.2822 - accuracy: 0.8636 - auc: 0.9383 - val_loss: 0.3212 - val_accuracy: 0.8800 - val_auc: 0.9466\n",
            "Epoch 98/120\n",
            "7/7 [==============================] - 0s 11ms/step - loss: 0.2970 - accuracy: 0.8535 - auc: 0.9374 - val_loss: 0.3205 - val_accuracy: 0.9000 - val_auc: 0.9475\n",
            "Epoch 99/120\n",
            "7/7 [==============================] - 0s 9ms/step - loss: 0.2736 - accuracy: 0.8687 - auc: 0.9393 - val_loss: 0.3209 - val_accuracy: 0.9000 - val_auc: 0.9466\n",
            "Epoch 100/120\n",
            "7/7 [==============================] - 0s 10ms/step - loss: 0.2912 - accuracy: 0.8586 - auc: 0.9393 - val_loss: 0.3208 - val_accuracy: 0.8800 - val_auc: 0.9466\n",
            "Epoch 101/120\n",
            "7/7 [==============================] - 0s 10ms/step - loss: 0.2923 - accuracy: 0.8636 - auc: 0.9393 - val_loss: 0.3211 - val_accuracy: 0.8800 - val_auc: 0.9491\n",
            "Epoch 102/120\n",
            "7/7 [==============================] - 0s 10ms/step - loss: 0.2917 - accuracy: 0.8636 - auc: 0.9395 - val_loss: 0.3193 - val_accuracy: 0.9000 - val_auc: 0.9466\n",
            "Epoch 103/120\n",
            "7/7 [==============================] - 0s 10ms/step - loss: 0.2915 - accuracy: 0.8737 - auc: 0.9393 - val_loss: 0.3186 - val_accuracy: 0.8800 - val_auc: 0.9466\n",
            "Epoch 104/120\n",
            "7/7 [==============================] - 0s 11ms/step - loss: 0.2804 - accuracy: 0.8687 - auc: 0.9396 - val_loss: 0.3194 - val_accuracy: 0.8800 - val_auc: 0.9466\n",
            "Epoch 105/120\n",
            "7/7 [==============================] - 0s 10ms/step - loss: 0.3422 - accuracy: 0.8586 - auc: 0.9390 - val_loss: 0.3187 - val_accuracy: 0.8800 - val_auc: 0.9475\n",
            "Epoch 106/120\n",
            "7/7 [==============================] - 0s 10ms/step - loss: 0.2796 - accuracy: 0.8586 - auc: 0.9393 - val_loss: 0.3202 - val_accuracy: 0.8600 - val_auc: 0.9458\n",
            "Epoch 107/120\n",
            "7/7 [==============================] - 0s 10ms/step - loss: 0.2690 - accuracy: 0.8535 - auc: 0.9389 - val_loss: 0.3192 - val_accuracy: 0.8600 - val_auc: 0.9442\n",
            "Epoch 108/120\n",
            "7/7 [==============================] - 0s 10ms/step - loss: 0.2996 - accuracy: 0.8636 - auc: 0.9389 - val_loss: 0.3198 - val_accuracy: 0.8600 - val_auc: 0.9450\n",
            "Epoch 109/120\n",
            "7/7 [==============================] - 0s 12ms/step - loss: 0.3040 - accuracy: 0.8535 - auc: 0.9387 - val_loss: 0.3160 - val_accuracy: 0.9000 - val_auc: 0.9466\n",
            "Epoch 110/120\n",
            "7/7 [==============================] - 0s 12ms/step - loss: 0.3145 - accuracy: 0.8586 - auc: 0.9391 - val_loss: 0.3146 - val_accuracy: 0.8800 - val_auc: 0.9450\n",
            "Epoch 111/120\n",
            "7/7 [==============================] - 0s 10ms/step - loss: 0.3048 - accuracy: 0.8586 - auc: 0.9387 - val_loss: 0.3131 - val_accuracy: 0.8800 - val_auc: 0.9450\n",
            "Epoch 112/120\n",
            "7/7 [==============================] - 0s 10ms/step - loss: 0.2941 - accuracy: 0.8535 - auc: 0.9393 - val_loss: 0.3128 - val_accuracy: 0.8800 - val_auc: 0.9433\n",
            "Epoch 113/120\n",
            "7/7 [==============================] - 0s 10ms/step - loss: 0.2800 - accuracy: 0.8535 - auc: 0.9396 - val_loss: 0.3130 - val_accuracy: 0.8800 - val_auc: 0.9458\n",
            "Epoch 114/120\n",
            "7/7 [==============================] - 0s 10ms/step - loss: 0.3425 - accuracy: 0.8535 - auc: 0.9395 - val_loss: 0.3148 - val_accuracy: 0.8800 - val_auc: 0.9450\n",
            "Epoch 115/120\n",
            "7/7 [==============================] - 0s 10ms/step - loss: 0.3034 - accuracy: 0.8586 - auc: 0.9392 - val_loss: 0.3142 - val_accuracy: 0.8600 - val_auc: 0.9442\n",
            "Epoch 116/120\n",
            "7/7 [==============================] - 0s 11ms/step - loss: 0.2942 - accuracy: 0.8485 - auc: 0.9390 - val_loss: 0.3138 - val_accuracy: 0.8800 - val_auc: 0.9458\n",
            "Epoch 117/120\n",
            "7/7 [==============================] - 0s 10ms/step - loss: 0.3025 - accuracy: 0.8636 - auc: 0.9392 - val_loss: 0.3147 - val_accuracy: 0.8800 - val_auc: 0.9466\n",
            "Epoch 118/120\n",
            "7/7 [==============================] - 0s 10ms/step - loss: 0.3126 - accuracy: 0.8586 - auc: 0.9394 - val_loss: 0.3156 - val_accuracy: 0.8600 - val_auc: 0.9458\n",
            "Epoch 119/120\n",
            "7/7 [==============================] - 0s 10ms/step - loss: 0.2691 - accuracy: 0.8586 - auc: 0.9389 - val_loss: 0.3136 - val_accuracy: 0.8800 - val_auc: 0.9458\n",
            "Epoch 120/120\n",
            "7/7 [==============================] - 0s 10ms/step - loss: 0.3003 - accuracy: 0.8636 - auc: 0.9395 - val_loss: 0.3148 - val_accuracy: 0.8600 - val_auc: 0.9450\n",
            "0.9108786284923553\n"
          ],
          "name": "stdout"
        },
        {
          "output_type": "display_data",
          "data": {
            "image/png": "[encoded data removed]",
            "text/plain": [
              "<Figure size 432x288 with 1 Axes>"
            ]
          },
          "metadata": {
            "tags": []
          }
        },
        {
          "output_type": "display_data",
          "data": {
            "image/png": "[encoded data removed]",
            "text/plain": [
              "<Figure size 432x288 with 1 Axes>"
            ]
          },
          "metadata": {
            "tags": []
          }
        },
        {
          "output_type": "display_data",
          "data": {
            "image/png": "[encoded data removed]",
            "text/plain": [
              "<Figure size 432x288 with 1 Axes>"
            ]
          },
          "metadata": {
            "tags": []
          }
        }
      ]
    },
    {
      "cell_type": "markdown",
      "metadata": {
        "id": "6otelj6w0pTz",
        "colab_type": "text"
      },
      "source": [
        "# Model Testing"
      ]
    },
    {
      "cell_type": "code",
      "metadata": {
        "id": "q5lOMqtw0r3R",
        "colab_type": "code",
        "outputId": "9201f87d-9ff2-408d-cf9f-82a6f7de9aba",
        "colab": {
          "base_uri": "https://localhost:8080/",
          "height": 52
        }
      },
      "source": [
        "# Evaluate the model against the test set\n",
        "features = {name:np.array(value) for name, value in df_test_norm.items()}\n",
        "label = np.array(features.pop(label_name))\n",
        "\n",
        "my_model.evaluate(x = features, y = label, batch_size=batch_size)"
      ],
      "execution_count": 236,
      "outputs": [
        {
          "output_type": "stream",
          "text": [
            "2/2 [==============================] - 0s 2ms/step - loss: 0.3885 - accuracy: 0.8226 - auc: 0.8876\n"
          ],
          "name": "stdout"
        },
        {
          "output_type": "execute_result",
          "data": {
            "text/plain": [
              "[0.3884848356246948, 0.8225806355476379, 0.8876262903213501]"
            ]
          },
          "metadata": {
            "tags": []
          },
          "execution_count": 236
        }
      ]
    },
    {
      "cell_type": "markdown",
      "metadata": {
        "id": "TLPWakOm0tZy",
        "colab_type": "text"
      },
      "source": [
        "# Result"
      ]
    },
    {
      "cell_type": "code",
      "metadata": {
        "id": "oxK9w74h0vRA",
        "colab_type": "code",
        "colab": {
          "base_uri": "https://localhost:8080/",
          "height": 104
        },
        "outputId": "3172b311-0a78-44d3-f2e9-03a2c4c616b0"
      },
      "source": [
        "for layer in my_model.layers:\n",
        "  weights = layer.get_weights()\n",
        "\n",
        "weights"
      ],
      "execution_count": 244,
      "outputs": [
        {
          "output_type": "execute_result",
          "data": {
            "text/plain": [
              "[array([[ 3.5129826 ],\n",
              "        [-0.31111008],\n",
              "        [-1.2312273 ],\n",
              "        [ 0.9114783 ],\n",
              "        [-0.82945156]], dtype=float32), array([2.0411742], dtype=float32)]"
            ]
          },
          "metadata": {
            "tags": []
          },
          "execution_count": 244
        }
      ]
    }
  ]
}