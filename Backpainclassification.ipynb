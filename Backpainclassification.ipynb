{
  "nbformat": 4,
  "nbformat_minor": 0,
  "metadata": {
    "colab": {
      "name": "Untitled3.ipynb",
      "provenance": [],
      "include_colab_link": true
    },
    "kernelspec": {
      "name": "python3",
      "display_name": "Python 3"
    }
  },
  "cells": [
    {
      "cell_type": "markdown",
      "metadata": {
        "id": "view-in-github",
        "colab_type": "text"
      },
      "source": [
        "<a href=\"https://colab.research.google.com/github/firdarinoa/bangkit-assignment5/blob/master/Backpainclassification.ipynb\" target=\"_parent\"><img src=\"https://colab.research.google.com/assets/colab-badge.svg\" alt=\"Open In Colab\"/></a>"
      ]
    },
    {
      "cell_type": "markdown",
      "metadata": {
        "id": "NkOKalFmztWg",
        "colab_type": "text"
      },
      "source": [
        "##New Section\n"
      ]
    },
    {
      "cell_type": "markdown",
      "metadata": {
        "id": "g5cN-hAOz8kk",
        "colab_type": "text"
      },
      "source": [
        "# Import module\n"
      ]
    },
    {
      "cell_type": "code",
      "metadata": {
        "id": "6UDCY5H-z5G6",
        "colab_type": "code",
        "colab": {}
      },
      "source": [
        "import os\n",
        "import math\n",
        "import pandas as pd\n",
        "import numpy as np\n",
        "import tensorflow as tf\n",
        "import matplotlib.pyplot as plt\n",
        "from tensorflow.python.data import Dataset\n",
        "from tensorflow.keras import optimizers\n",
        "from tensorflow.keras import layers\n",
        "import seaborn as sns\n",
        "from sklearn import metrics\n",
        "from sklearn.model_selection import train_test_split\n",
        "from matplotlib import cm"
      ],
      "execution_count": 0,
      "outputs": []
    },
    {
      "cell_type": "code",
      "metadata": {
        "id": "0Q9Xb-yH4RfH",
        "colab_type": "code",
        "colab": {}
      },
      "source": [
        "df = pd.read_csv('Dataset_spine.csv')\n",
        "df.head(10)"
      ],
      "execution_count": 0,
      "outputs": []
    },
    {
      "cell_type": "code",
      "metadata": {
        "id": "dNG4Olm84T4C",
        "colab_type": "code",
        "colab": {}
      },
      "source": [
        "df = df.loc[:, ~df.columns.str.contains('^Unnamed')]\n",
        "df.rename(columns = {\n",
        "    \"Col1\" : \"pelvic_incidence\", \n",
        "    \"Col2\" : \"pelvic_tilt\",\n",
        "    \"Col3\" : \"lumbar_lordosis_angle\",\n",
        "    \"Col4\" : \"sacral_slope\", \n",
        "    \"Col5\" : \"pelvic_radius\",\n",
        "    \"Col6\" : \"degree_spondylolisthesis\", \n",
        "    \"Col7\" : \"pelvic_slope\",\n",
        "    \"Col8\" : \"direct_tilt\",\n",
        "    \"Col9\" : \"thoracic_slope\", \n",
        "    \"Col10\" :\"cervical_tilt\", \n",
        "    \"Col11\" : \"sacrum_angle\",\n",
        "    \"Col12\" : \"scoliosis_slope\", \n",
        "    \"Class_att\" : \"Class_att\"}, inplace=True)"
      ],
      "execution_count": 0,
      "outputs": []
    },
    {
      "cell_type": "code",
      "metadata": {
        "id": "6rnM6csr4gt9",
        "colab_type": "code",
        "colab": {}
      },
      "source": [
        "df['Class_att'].replace({\"Abnormal\": True, \"Normal\": False}, inplace=True)"
      ],
      "execution_count": 0,
      "outputs": []
    },
    {
      "cell_type": "code",
      "metadata": {
        "id": "rDgwhDNE4ihF",
        "colab_type": "code",
        "colab": {}
      },
      "source": [
        "df['Class_att'] = df['Class_att'].astype(float)"
      ],
      "execution_count": 0,
      "outputs": []
    },
    {
      "cell_type": "code",
      "metadata": {
        "id": "pEBgp2Ll4j_0",
        "colab_type": "code",
        "colab": {}
      },
      "source": [
        "df.info()"
      ],
      "execution_count": 0,
      "outputs": []
    },
    {
      "cell_type": "markdown",
      "metadata": {
        "id": "em0wROr0z3v3",
        "colab_type": "text"
      },
      "source": [
        "# Data Analysis\n"
      ]
    },
    {
      "cell_type": "code",
      "metadata": {
        "id": "L53N5oWkzlLp",
        "colab_type": "code",
        "colab": {}
      },
      "source": [
        "df_train, df_test = train_test_split(df, test_size=0.2)"
      ],
      "execution_count": 0,
      "outputs": []
    },
    {
      "cell_type": "code",
      "metadata": {
        "id": "OMGyXlZ2z1f5",
        "colab_type": "code",
        "colab": {}
      },
      "source": [
        "df_train = df_train.reindex(np.random.permutation(df_train.index))"
      ],
      "execution_count": 0,
      "outputs": []
    },
    {
      "cell_type": "code",
      "metadata": {
        "id": "VDqrdc8o3EqA",
        "colab_type": "code",
        "colab": {}
      },
      "source": [
        "df_train.head()"
      ],
      "execution_count": 0,
      "outputs": []
    },
    {
      "cell_type": "markdown",
      "metadata": {
        "id": "v1hESp_l3Fcn",
        "colab_type": "text"
      },
      "source": [
        "# Data Cleansing\n"
      ]
    },
    {
      "cell_type": "code",
      "metadata": {
        "id": "x8SwDXqW3IGi",
        "colab_type": "code",
        "colab": {}
      },
      "source": [
        ""
      ],
      "execution_count": 0,
      "outputs": []
    },
    {
      "cell_type": "markdown",
      "metadata": {
        "id": "hkKXWFaZz1zk",
        "colab_type": "text"
      },
      "source": [
        "# Feature Engineering"
      ]
    },
    {
      "cell_type": "code",
      "metadata": {
        "id": "t9-OCki1z2WR",
        "colab_type": "code",
        "colab": {}
      },
      "source": [
        ""
      ],
      "execution_count": 0,
      "outputs": []
    },
    {
      "cell_type": "code",
      "metadata": {
        "id": "nHCEKvjwz2q2",
        "colab_type": "code",
        "colab": {}
      },
      "source": [
        ""
      ],
      "execution_count": 0,
      "outputs": []
    },
    {
      "cell_type": "markdown",
      "metadata": {
        "id": "7xKQaTTK0bkQ",
        "colab_type": "text"
      },
      "source": [
        "# Model Build & Training Function"
      ]
    },
    {
      "cell_type": "code",
      "metadata": {
        "id": "KgXivg_60hL5",
        "colab_type": "code",
        "colab": {}
      },
      "source": [
        ""
      ],
      "execution_count": 0,
      "outputs": []
    },
    {
      "cell_type": "markdown",
      "metadata": {
        "id": "NePZ5Stt0kjE",
        "colab_type": "text"
      },
      "source": [
        ""
      ]
    },
    {
      "cell_type": "code",
      "metadata": {
        "id": "1FWcqOMR0hYz",
        "colab_type": "code",
        "colab": {}
      },
      "source": [
        ""
      ],
      "execution_count": 0,
      "outputs": []
    },
    {
      "cell_type": "markdown",
      "metadata": {
        "id": "UjaMJ_kP0h8R",
        "colab_type": "text"
      },
      "source": [
        "# Plotting Function"
      ]
    },
    {
      "cell_type": "code",
      "metadata": {
        "id": "5yAW5mMA0lgG",
        "colab_type": "code",
        "colab": {}
      },
      "source": [
        "# plotting: loss function"
      ],
      "execution_count": 0,
      "outputs": []
    },
    {
      "cell_type": "markdown",
      "metadata": {
        "id": "Jmlrgit30l_s",
        "colab_type": "text"
      },
      "source": [
        "# Prediction"
      ]
    },
    {
      "cell_type": "code",
      "metadata": {
        "id": "6yJ3Y--F0os_",
        "colab_type": "code",
        "colab": {}
      },
      "source": [
        "#predict data"
      ],
      "execution_count": 0,
      "outputs": []
    },
    {
      "cell_type": "markdown",
      "metadata": {
        "id": "6otelj6w0pTz",
        "colab_type": "text"
      },
      "source": [
        "# Model Testing"
      ]
    },
    {
      "cell_type": "code",
      "metadata": {
        "id": "q5lOMqtw0r3R",
        "colab_type": "code",
        "colab": {}
      },
      "source": [
        "# test prediction"
      ],
      "execution_count": 0,
      "outputs": []
    },
    {
      "cell_type": "markdown",
      "metadata": {
        "id": "TLPWakOm0tZy",
        "colab_type": "text"
      },
      "source": [
        "# Result"
      ]
    },
    {
      "cell_type": "code",
      "metadata": {
        "id": "oxK9w74h0vRA",
        "colab_type": "code",
        "colab": {}
      },
      "source": [
        "# weight plot"
      ],
      "execution_count": 0,
      "outputs": []
    }
  ]
}